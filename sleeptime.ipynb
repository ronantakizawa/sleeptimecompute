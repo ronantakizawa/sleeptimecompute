{
  "cells": [
    {
      "cell_type": "markdown",
      "metadata": {
        "id": "1aUb8FFc2uQg"
      },
      "source": [
        "# Sleep-time Compute Implementation with Mistral-7B\n",
        "\n",
        "This notebook implements Sleep-time Compute using Mistral-7B-Instruct-v0.1, based on the paper \"Sleep-time Compute: Beyond Inference Scaling at Test-time\"."
      ]
    },
    {
      "cell_type": "markdown",
      "metadata": {
        "id": "2b-2CvW32uQh"
      },
      "source": [
        "## Setup and Installation\n",
        "\n",
        "First, let's install the required dependencies:"
      ]
    },
    {
      "cell_type": "code",
      "execution_count": null,
      "metadata": {
        "collapsed": true,
        "id": "6jqS2e_l2uQh"
      },
      "source": [
        "!pip install transformers torch datasets matplotlib tqdm accelerate"
      ],
      "outputs": []
    },
    {
      "cell_type": "code",
      "execution_count": 2,
      "metadata": {
        "id": "jTs42cJA2uQi"
      },
      "source": [
        "import torch\n",
        "import re\n",
        "import json\n",
        "import numpy as np\n",
        "import matplotlib.pyplot as plt\n",
        "from tqdm import tqdm\n",
        "from transformers import AutoModelForCausalLM, AutoTokenizer"
      ],
      "outputs": []
    },
    {
      "cell_type": "markdown",
      "metadata": {
        "id": "mffYeZvM2uQi"
      },
      "source": [
        "## Set Up Mistral Model\n",
        "\n",
        "Let's set up the Mistral-7B-Instruct-v0.1 model using the requested code:"
      ]
    },
    {
      "cell_type": "code",
      "execution_count": null,
      "metadata": {
        "id": "X0Xcx6DE2uQi"
      },
      "source": [
        "# Set your Hugging Face token here (if needed)\n",
        "HF_TOKEN = \"\" # Add your Hugging Face token if needed\n",
        "\n",
        "# Model setup\n",
        "print(\"Loading Mistral-7B-Instruct-v0.1...\")\n",
        "model_name = \"mistralai/Mistral-7B-Instruct-v0.1\"\n",
        "\n",
        "if HF_TOKEN:\n",
        "    tokenizer = AutoTokenizer.from_pretrained(model_name, token=HF_TOKEN, trust_remote_code=True)\n",
        "    model = AutoModelForCausalLM.from_pretrained(\n",
        "        model_name,\n",
        "        torch_dtype=torch.float16 if torch.cuda.is_available() else torch.float32,\n",
        "        device_map=\"auto\",\n",
        "        trust_remote_code=True,\n",
        "        token=HF_TOKEN\n",
        "    )\n",
        "else:\n",
        "    tokenizer = AutoTokenizer.from_pretrained(model_name, trust_remote_code=True)\n",
        "    model = AutoModelForCausalLM.from_pretrained(\n",
        "        model_name,\n",
        "        torch_dtype=torch.float16 if torch.cuda.is_available() else torch.float32,\n",
        "        device_map=\"auto\",\n",
        "        trust_remote_code=True\n",
        "    )\n",
        "\n",
        "print(f\"Model loaded on device: {model.device}\")"
      ],
      "outputs": []
    },
    {
      "cell_type": "markdown",
      "metadata": {
        "id": "tSiXRO6Q2uQj"
      },
      "source": [
        "## Implement Sleep-time Compute with Mistral-Specific Prompts\n",
        "\n",
        "Now, let's implement our Sleep-time Compute functions with prompts tailored for Mistral's instruction format."
      ]
    },
    {
      "cell_type": "code",
      "execution_count": 4,
      "metadata": {
        "id": "Vk6Ir3Bm2uQj"
      },
      "source": [
        "# Define Mistral-specific prompt formats\n",
        "def get_sleep_time_prompt(context):\n",
        "    \"\"\"Generate the prompt for the sleep-time phase, formatted for Mistral\"\"\"\n",
        "    return f\"\"\"<s>[INST] You are an expert reasoning system. Given a context, your task is to think about the context and make useful inferences, calculations, and predictions that could help answer potential future questions about this context.\n",
        "\n",
        "For example, if the context involves numbers, calculate relevant quantities. If it involves a scenario, think about different aspects of the scenario that might be important. Try to anticipate possible questions and prepare the information needed to answer them quickly.\n",
        "\n",
        "Context: {context}\n",
        "\n",
        "Think step by step and be thorough. Generate a comprehensive set of inferences, calculations, and observations about this context that would be helpful for answering potential questions: [/INST]\n",
        "\"\"\"\n",
        "\n",
        "def get_test_time_prompt(context, question, inferences, verbosity):\n",
        "    \"\"\"Generate the prompt for the test-time phase with variable verbosity, formatted for Mistral\"\"\"\n",
        "    # Base on verbosity level\n",
        "    if verbosity == 0:\n",
        "        instruction = \"Answer directly with a single sentence. Say 'The answer is' followed by the numerical answer.\"\n",
        "    elif verbosity == 1:\n",
        "        instruction = \"Provide one short sentence of explanation, followed by a sentence that starts with 'The answer is' and a numerical answer.\"\n",
        "    elif verbosity == 2:\n",
        "        instruction = \"Provide two short sentences of explanation, followed by a sentence that starts with 'The answer is' and a numerical answer.\"\n",
        "    elif verbosity == 3:\n",
        "        instruction = \"Reason step by step and provide an answer. End with the final numerical answer.\"\n",
        "    else: # verbosity == 4\n",
        "        instruction = \"Reason thoroughly step by step, double check your work, and provide a detailed explanation leading to the answer. End with 'The answer is' followed by the numerical answer.\"\n",
        "\n",
        "    return f\"\"\"<s>[INST] You are an expert reasoning system. {instruction}\n",
        "\n",
        "Original Context: {context}\n",
        "\n",
        "Pre-computed analysis:\n",
        "{inferences}\n",
        "\n",
        "Question: {question}\n",
        "\n",
        "Use the pre-computed analysis to help you answer efficiently. [/INST]\n",
        "\"\"\"\n",
        "\n",
        "def get_standard_test_time_prompt(context, question, verbosity):\n",
        "    \"\"\"Generate the prompt for standard test-time compute, formatted for Mistral\"\"\"\n",
        "    # Base on verbosity level\n",
        "    if verbosity == 0:\n",
        "        instruction = \"Answer directly with a single sentence. Say 'The answer is' followed by the numerical answer.\"\n",
        "    elif verbosity == 1:\n",
        "        instruction = \"Provide one short sentence of explanation, followed by a sentence that starts with 'The answer is' and a numerical answer.\"\n",
        "    elif verbosity == 2:\n",
        "        instruction = \"Provide two short sentences of explanation, followed by a sentence that starts with 'The answer is' and a numerical answer.\"\n",
        "    elif verbosity == 3:\n",
        "        instruction = \"Reason step by step and provide an answer. End with the final numerical answer.\"\n",
        "    else: # verbosity == 4\n",
        "        instruction = \"Reason thoroughly step by step, double check your work, and provide a detailed explanation leading to the answer. End with 'The answer is' followed by the numerical answer.\"\n",
        "\n",
        "    return f\"\"\"<s>[INST] You are an expert reasoning system. {instruction}\n",
        "\n",
        "Context and Question: {context} {question} [/INST]\n",
        "\"\"\""
      ],
      "outputs": []
    },
    {
      "cell_type": "code",
      "execution_count": 5,
      "metadata": {
        "id": "za9dV5Ve2uQj"
      },
      "source": [
        "def sleep_time_compute(context, temperature=0.1, max_new_tokens=1024):\n",
        "    \"\"\"Perform sleep-time computation on a context using Mistral\n",
        "\n",
        "    Args:\n",
        "        context: The context to analyze\n",
        "        temperature: Temperature for generation\n",
        "        max_new_tokens: Maximum number of new tokens to generate\n",
        "\n",
        "    Returns:\n",
        "        Dictionary with inference text and token count\n",
        "    \"\"\"\n",
        "    prompt = get_sleep_time_prompt(context)\n",
        "\n",
        "    # Count input tokens\n",
        "    input_tokens = len(tokenizer.encode(prompt))\n",
        "\n",
        "    inputs = tokenizer(prompt, return_tensors=\"pt\")\n",
        "    inputs = {k: v.to(model.device) for k, v in inputs.items()}\n",
        "\n",
        "    # Generate\n",
        "    with torch.no_grad():\n",
        "        outputs = model.generate(\n",
        "            **inputs,\n",
        "            max_new_tokens=max_new_tokens,\n",
        "            temperature=temperature,\n",
        "            do_sample=True if temperature > 0 else False,\n",
        "            num_return_sequences=1\n",
        "        )\n",
        "\n",
        "    # Get generated text, removing the prompt\n",
        "    generated_text = tokenizer.decode(outputs[0], skip_special_tokens=False)\n",
        "\n",
        "    # Extract the model's response after [/INST]\n",
        "    response_text = generated_text.split('[/INST]')[-1].strip()\n",
        "    # Remove any trailing tokens if present\n",
        "    if \"</s>\" in response_text:\n",
        "        response_text = response_text.split(\"</s>\")[0].strip()\n",
        "\n",
        "    # Count tokens\n",
        "    sleep_time_tokens = len(tokenizer.encode(response_text))\n",
        "\n",
        "    return {\n",
        "        \"inferences\": response_text,\n",
        "        \"sleep_time_tokens\": sleep_time_tokens\n",
        "    }"
      ],
      "outputs": []
    },
    {
      "cell_type": "code",
      "execution_count": 6,
      "metadata": {
        "id": "UCnqVOWk2uQj"
      },
      "source": [
        "def test_time_compute(context, question, inferences, verbosity=0, temperature=0.1, max_new_tokens=512):\n",
        "    \"\"\"Perform test-time computation on a context and question using Mistral\n",
        "\n",
        "    Args:\n",
        "        context: The context to analyze\n",
        "        question: The question to answer\n",
        "        inferences: Pre-computed inferences from sleep-time compute\n",
        "        verbosity: Verbosity level (0-4)\n",
        "        temperature: Temperature for generation\n",
        "        max_new_tokens: Maximum number of new tokens to generate\n",
        "\n",
        "    Returns:\n",
        "        Generated response and token count\n",
        "    \"\"\"\n",
        "    prompt = get_test_time_prompt(context, question, inferences, verbosity)\n",
        "\n",
        "    inputs = tokenizer(prompt, return_tensors=\"pt\")\n",
        "    inputs = {k: v.to(model.device) for k, v in inputs.items()}\n",
        "\n",
        "    # Generate\n",
        "    with torch.no_grad():\n",
        "        outputs = model.generate(\n",
        "            **inputs,\n",
        "            max_new_tokens=max_new_tokens,\n",
        "            temperature=temperature,\n",
        "            do_sample=True if temperature > 0 else False,\n",
        "            num_return_sequences=1\n",
        "        )\n",
        "\n",
        "    # Get generated text, removing the prompt\n",
        "    generated_text = tokenizer.decode(outputs[0], skip_special_tokens=False)\n",
        "\n",
        "    # Extract the model's response after [/INST]\n",
        "    response_text = generated_text.split('[/INST]')[-1].strip()\n",
        "    # Remove any trailing tokens if present\n",
        "    if \"</s>\" in response_text:\n",
        "        response_text = response_text.split(\"</s>\")[0].strip()\n",
        "\n",
        "    # Count tokens\n",
        "    test_time_tokens = len(tokenizer.encode(response_text))\n",
        "\n",
        "    return {\n",
        "        \"response\": response_text,\n",
        "        \"test_time_tokens\": test_time_tokens\n",
        "    }"
      ],
      "outputs": []
    },
    {
      "cell_type": "code",
      "execution_count": 7,
      "metadata": {
        "id": "QorylXzf2uQk"
      },
      "source": [
        "def standard_test_time_compute(context, question, verbosity=0, temperature=0.1, max_new_tokens=512):\n",
        "    \"\"\"Perform standard test-time computation without sleep-time compute using Mistral\n",
        "\n",
        "    Args:\n",
        "        context: The context to analyze\n",
        "        question: The question to answer\n",
        "        verbosity: Verbosity level (0-4)\n",
        "        temperature: Temperature for generation\n",
        "        max_new_tokens: Maximum number of new tokens to generate\n",
        "\n",
        "    Returns:\n",
        "        Generated response and token count\n",
        "    \"\"\"\n",
        "    prompt = get_standard_test_time_prompt(context, question, verbosity)\n",
        "\n",
        "    inputs = tokenizer(prompt, return_tensors=\"pt\")\n",
        "    inputs = {k: v.to(model.device) for k, v in inputs.items()}\n",
        "\n",
        "    # Generate\n",
        "    with torch.no_grad():\n",
        "        outputs = model.generate(\n",
        "            **inputs,\n",
        "            max_new_tokens=max_new_tokens,\n",
        "            temperature=temperature,\n",
        "            do_sample=True if temperature > 0 else False,\n",
        "            num_return_sequences=1\n",
        "        )\n",
        "\n",
        "    # Get generated text, removing the prompt\n",
        "    generated_text = tokenizer.decode(outputs[0], skip_special_tokens=False)\n",
        "\n",
        "    # Extract the model's response after [/INST]\n",
        "    response_text = generated_text.split('[/INST]')[-1].strip()\n",
        "    # Remove any trailing tokens if present\n",
        "    if \"</s>\" in response_text:\n",
        "        response_text = response_text.split(\"</s>\")[0].strip()\n",
        "\n",
        "    # Count tokens\n",
        "    test_time_tokens = len(tokenizer.encode(response_text))\n",
        "\n",
        "    return {\n",
        "        \"response\": response_text,\n",
        "        \"test_time_tokens\": test_time_tokens\n",
        "    }"
      ],
      "outputs": []
    },
    {
      "cell_type": "markdown",
      "metadata": {
        "id": "e7webcQl2uQk"
      },
      "source": [
        "## Helper Functions for Evaluation"
      ]
    },
    {
      "cell_type": "code",
      "execution_count": 8,
      "metadata": {
        "id": "JyPo1_pG2uQk"
      },
      "source": [
        "def extract_answer(response_content):\n",
        "    \"\"\"Extract a numerical answer from response content\"\"\"\n",
        "    # Look for \"answer is X\" pattern\n",
        "    match = re.search(r'[Tt]he answer is (\\d+)', response_content)\n",
        "    if match:\n",
        "        return match.group(1)\n",
        "\n",
        "    # Look for a number at the end of the response\n",
        "    match = re.search(r'(\\d+)\\s*\\.?\\s*$', response_content)\n",
        "    if match:\n",
        "        return match.group(1)\n",
        "\n",
        "    # Just extract any number in the response (less reliable)\n",
        "    numbers = re.findall(r'\\b(\\d+)\\b', response_content)\n",
        "    if numbers:\n",
        "        return numbers[-1]  # Often the last number is the answer\n",
        "\n",
        "    return None"
      ],
      "outputs": []
    },
    {
      "cell_type": "markdown",
      "metadata": {
        "id": "DA_hDsNP2uQk"
      },
      "source": [
        "## Sample Data\n",
        "\n",
        "Let's define a small sample dataset similar to the Stateful GSM-Symbolic dataset."
      ]
    },
    {
      "cell_type": "code",
      "execution_count": 9,
      "metadata": {
        "id": "FdZ6mFXr2uQk"
      },
      "source": [
        "# Sample problems similar to GSM-Symbolic format\n",
        "sample_problems = [\n",
        "    {\n",
        "        \"stateful_gsm_symbolic_context\": \"A juggler can juggle 800 balls. 1/4 of the balls are tennis balls, and 1/2 of the tennis balls are indigo of which 1/10 are marked.\",\n",
        "        \"stateful_gsm_symbolic_question\": \"How many marked indigo tennis balls are there?\",\n",
        "        \"answer\": \"10\"\n",
        "    },\n",
        "    {\n",
        "        \"stateful_gsm_symbolic_context\": \"Yusuf has 10 square yards of grape field. There are 87 grapes per two-thirds a square yard. Yusuf can harvest his grapes every 12 months.\",\n",
        "        \"stateful_gsm_symbolic_question\": \"How many grapes can Yusuf harvest in 2 years?\",\n",
        "        \"answer\": \"2610\"\n",
        "    },\n",
        "    {\n",
        "        \"stateful_gsm_symbolic_context\": \"A juggler can juggle 240 balls. 1/4 of the balls are tennis balls, and the rest are golf balls. 1/3 of the tennis balls are black, of which 1/5 are marked. A third of the golf balls are cyan, and all except half of those cyan balls are marked.\",\n",
        "        \"stateful_gsm_symbolic_question\": \"How many marked balls are there in total?\",\n",
        "        \"answer\": \"34\"\n",
        "    }\n",
        "]"
      ],
      "outputs": []
    },
    {
      "cell_type": "markdown",
      "metadata": {
        "id": "I3JMaURj2uQk"
      },
      "source": [
        "## Run Experiments\n",
        "\n",
        "Now let's run our experiments using both standard test-time compute and sleep-time compute approaches."
      ]
    },
    {
      "cell_type": "code",
      "execution_count": 10,
      "metadata": {
        "id": "wGVr9WCi2uQk"
      },
      "source": [
        "def run_experiments(problems):\n",
        "    \"\"\"Run experiments comparing test-time and sleep-time compute approaches\n",
        "\n",
        "    Args:\n",
        "        problems: List of problems to solve\n",
        "\n",
        "    Returns:\n",
        "        Dictionary of results\n",
        "    \"\"\"\n",
        "    results = {\n",
        "        \"standard\": {},\n",
        "        \"sleep_time\": {}\n",
        "    }\n",
        "\n",
        "    # Run standard test-time compute experiments with different verbosity levels\n",
        "    for verbosity in range(5):\n",
        "        print(f\"Running standard test-time compute with verbosity {verbosity}...\")\n",
        "        standard_results = []\n",
        "\n",
        "        for problem in tqdm(problems):\n",
        "            try:\n",
        "                context = problem[\"stateful_gsm_symbolic_context\"]\n",
        "                question = problem[\"stateful_gsm_symbolic_question\"]\n",
        "\n",
        "                result = standard_test_time_compute(\n",
        "                    context,\n",
        "                    question,\n",
        "                    verbosity=verbosity\n",
        "                )\n",
        "\n",
        "                extracted_answer = extract_answer(result[\"response\"])\n",
        "                correct = extracted_answer == problem[\"answer\"]\n",
        "\n",
        "                standard_results.append({\n",
        "                    \"problem\": problem,\n",
        "                    \"response\": result[\"response\"],\n",
        "                    \"test_time_tokens\": result[\"test_time_tokens\"],\n",
        "                    \"correct\": correct\n",
        "                })\n",
        "            except Exception as e:\n",
        "                print(f\"Error processing problem with standard approach: {e}\")\n",
        "                standard_results.append({\n",
        "                    \"problem\": problem,\n",
        "                    \"error\": str(e),\n",
        "                    \"test_time_tokens\": 0,\n",
        "                    \"correct\": False\n",
        "                })\n",
        "\n",
        "        # Calculate aggregate metrics\n",
        "        accuracy = sum(r[\"correct\"] for r in standard_results) / len(standard_results)\n",
        "        avg_test_time_tokens = sum(r[\"test_time_tokens\"] for r in standard_results) / len(standard_results)\n",
        "\n",
        "        results[\"standard\"][f\"verbosity_{verbosity}\"] = {\n",
        "            \"problems\": standard_results,\n",
        "            \"accuracy\": accuracy,\n",
        "            \"avg_test_time_tokens\": avg_test_time_tokens\n",
        "        }\n",
        "\n",
        "    # Run sleep-time compute experiments with different verbosity levels\n",
        "    for verbosity in range(5):\n",
        "        print(f\"Running sleep-time compute with verbosity {verbosity}...\")\n",
        "        sleep_time_results = []\n",
        "\n",
        "        for problem in tqdm(problems):\n",
        "            try:\n",
        "                context = problem[\"stateful_gsm_symbolic_context\"]\n",
        "                question = problem[\"stateful_gsm_symbolic_question\"]\n",
        "\n",
        "                # Sleep-time phase\n",
        "                sleep_time_result = sleep_time_compute(context)\n",
        "\n",
        "                # Test-time phase\n",
        "                test_time_result = test_time_compute(\n",
        "                    context,\n",
        "                    question,\n",
        "                    sleep_time_result[\"inferences\"],\n",
        "                    verbosity=verbosity\n",
        "                )\n",
        "\n",
        "                extracted_answer = extract_answer(test_time_result[\"response\"])\n",
        "                correct = extracted_answer == problem[\"answer\"]\n",
        "\n",
        "                sleep_time_results.append({\n",
        "                    \"problem\": problem,\n",
        "                    \"response\": test_time_result[\"response\"],\n",
        "                    \"test_time_tokens\": test_time_result[\"test_time_tokens\"],\n",
        "                    \"sleep_time_tokens\": sleep_time_result[\"sleep_time_tokens\"],\n",
        "                    \"correct\": correct\n",
        "                })\n",
        "            except Exception as e:\n",
        "                print(f\"Error processing problem with sleep-time approach: {e}\")\n",
        "                sleep_time_results.append({\n",
        "                    \"problem\": problem,\n",
        "                    \"error\": str(e),\n",
        "                    \"test_time_tokens\": 0,\n",
        "                    \"sleep_time_tokens\": 0,\n",
        "                    \"correct\": False\n",
        "                })\n",
        "\n",
        "        # Calculate aggregate metrics\n",
        "        accuracy = sum(r[\"correct\"] for r in sleep_time_results) / len(sleep_time_results)\n",
        "        avg_test_time_tokens = sum(r[\"test_time_tokens\"] for r in sleep_time_results) / len(sleep_time_results)\n",
        "        avg_sleep_time_tokens = sum(r[\"sleep_time_tokens\"] for r in sleep_time_results) / len(sleep_time_results)\n",
        "\n",
        "        results[\"sleep_time\"][f\"verbosity_{verbosity}\"] = {\n",
        "            \"problems\": sleep_time_results,\n",
        "            \"accuracy\": accuracy,\n",
        "            \"avg_test_time_tokens\": avg_test_time_tokens,\n",
        "            \"avg_sleep_time_tokens\": avg_sleep_time_tokens\n",
        "        }\n",
        "\n",
        "    return results"
      ],
      "outputs": []
    },
    {
      "cell_type": "code",
      "execution_count": null,
      "metadata": {
        "id": "gzNEk4Ib2uQl"
      },
      "source": [
        "# Run experiments on sample problems\n",
        "results = run_experiments(sample_problems)\n",
        "\n",
        "# Save results\n",
        "with open(\"sleep_time_results_mistral.json\", \"w\") as f:\n",
        "    # Convert to a serializable format by removing the problem objects\n",
        "    serializable_results = {\n",
        "        \"standard\": {\n",
        "            k: {\n",
        "                \"accuracy\": v[\"accuracy\"],\n",
        "                \"avg_test_time_tokens\": v[\"avg_test_time_tokens\"]\n",
        "            } for k, v in results[\"standard\"].items()\n",
        "        },\n",
        "        \"sleep_time\": {\n",
        "            k: {\n",
        "                \"accuracy\": v[\"accuracy\"],\n",
        "                \"avg_test_time_tokens\": v[\"avg_test_time_tokens\"],\n",
        "                \"avg_sleep_time_tokens\": v.get(\"avg_sleep_time_tokens\", 0)\n",
        "            } for k, v in results[\"sleep_time\"].items()\n",
        "        }\n",
        "    }\n",
        "    json.dump(serializable_results, f, indent=2)"
      ],
      "outputs": []
    },
    {
      "cell_type": "markdown",
      "metadata": {
        "id": "joW87xo22uQl"
      },
      "source": [
        "## Visualize Results\n",
        "\n",
        "Now let's visualize the results to demonstrate the benefits of Sleep-time Compute."
      ]
    },
    {
      "cell_type": "code",
      "execution_count": 12,
      "metadata": {
        "id": "QUkYRdxc2uQl"
      },
      "source": [
        "def plot_test_time_vs_accuracy(results):\n",
        "    \"\"\"Plot test-time compute vs. accuracy for standard and sleep-time approaches\"\"\"\n",
        "    plt.figure(figsize=(10, 6))\n",
        "\n",
        "    # Standard approach\n",
        "    standard_x = []\n",
        "    standard_y = []\n",
        "\n",
        "    for verbosity in range(5):\n",
        "        data = results[\"standard\"][f\"verbosity_{verbosity}\"]\n",
        "        standard_x.append(data[\"avg_test_time_tokens\"])\n",
        "        standard_y.append(data[\"accuracy\"])\n",
        "\n",
        "    plt.plot(standard_x, standard_y, 'o-', label=\"Standard Test-time Compute\", color=\"blue\")\n",
        "\n",
        "    # Sleep-time approach\n",
        "    sleep_time_x = []\n",
        "    sleep_time_y = []\n",
        "\n",
        "    for verbosity in range(5):\n",
        "        data = results[\"sleep_time\"][f\"verbosity_{verbosity}\"]\n",
        "        sleep_time_x.append(data[\"avg_test_time_tokens\"])\n",
        "        sleep_time_y.append(data[\"accuracy\"])\n",
        "\n",
        "    plt.plot(sleep_time_x, sleep_time_y, 'o-', label=\"Sleep-time Compute\", color=\"green\")\n",
        "\n",
        "    # Shaded area to show pareto improvement\n",
        "    sorted_x = sorted(standard_x + sleep_time_x)\n",
        "    max_sleep_accuracy = max(sleep_time_y)\n",
        "    plt.fill_between([min(sorted_x), max(sorted_x)], 0, max_sleep_accuracy, alpha=0.1, color='green')\n",
        "\n",
        "    plt.title(\"Test-time Compute vs. Accuracy\")\n",
        "    plt.xlabel(\"Avg. Test-time Tokens / Question\")\n",
        "    plt.ylabel(\"Accuracy\")\n",
        "    plt.grid(True, linestyle='--', alpha=0.7)\n",
        "    plt.legend()\n",
        "    plt.tight_layout()\n",
        "\n",
        "    return plt"
      ],
      "outputs": []
    },
    {
      "cell_type": "code",
      "execution_count": 13,
      "metadata": {
        "id": "M1BeLGZA2uQl"
      },
      "source": [
        "def calculate_amortization(results):\n",
        "    \"\"\"Calculate cost amortization for multiple queries\"\"\"\n",
        "    # Get standard and sleep-time data points with similar accuracy\n",
        "    std_verbosity_2 = results[\"standard\"][\"verbosity_2\"]\n",
        "    sleep_verbosity_0 = results[\"sleep_time\"][\"verbosity_0\"]\n",
        "\n",
        "    std_tokens = std_verbosity_2[\"avg_test_time_tokens\"]\n",
        "    sleep_test_tokens = sleep_verbosity_0[\"avg_test_time_tokens\"]\n",
        "    sleep_time_tokens = sleep_verbosity_0[\"avg_sleep_time_tokens\"]\n",
        "\n",
        "    # Calculate costs for different numbers of queries per context\n",
        "    queries_per_context = [1, 2, 5, 10]\n",
        "    standard_costs = [std_tokens * n for n in queries_per_context]\n",
        "    sleep_costs = [sleep_time_tokens + sleep_test_tokens * n for n in queries_per_context]\n",
        "\n",
        "    return {\n",
        "        \"queries_per_context\": queries_per_context,\n",
        "        \"standard_costs\": standard_costs,\n",
        "        \"sleep_costs\": sleep_costs\n",
        "    }"
      ],
      "outputs": []
    },
    {
      "cell_type": "code",
      "execution_count": 14,
      "metadata": {
        "id": "2ZuZIZsV2uQl"
      },
      "source": [
        "def plot_amortization(amortization_data):\n",
        "    \"\"\"Plot the cost amortization of sleep-time compute across multiple queries\"\"\"\n",
        "    plt.figure(figsize=(10, 6))\n",
        "\n",
        "    x = amortization_data[\"queries_per_context\"]\n",
        "    y1 = amortization_data[\"standard_costs\"]\n",
        "    y2 = amortization_data[\"sleep_costs\"]\n",
        "\n",
        "    # Calculate reduction factors\n",
        "    reduction_factors = [std / sleep for std, sleep in zip(y1, y2)]\n",
        "\n",
        "    plt.plot(x, y1, 'o-', label=\"Standard Test-time Compute\", color=\"blue\")\n",
        "    plt.plot(x, y2, 'o-', label=\"Sleep-time Compute\", color=\"green\")\n",
        "\n",
        "    # Add reduction factors as text\n",
        "    for i, factor in enumerate(reduction_factors):\n",
        "        plt.annotate(f\"{factor:.1f}x\",\n",
        "                     xy=(x[i], (y1[i] + y2[i])/2),\n",
        "                     xytext=(10, 0),\n",
        "                     textcoords=\"offset points\",\n",
        "                     ha='left',\n",
        "                     fontweight='bold')\n",
        "\n",
        "    plt.title(\"Cost Amortization Across Multiple Queries\")\n",
        "    plt.xlabel(\"Number of Queries per Context\")\n",
        "    plt.ylabel(\"Total Token Cost\")\n",
        "    plt.grid(True, linestyle='--', alpha=0.7)\n",
        "    plt.legend()\n",
        "    plt.tight_layout()\n",
        "\n",
        "    return plt"
      ],
      "outputs": []
    },
    {
      "cell_type": "code",
      "execution_count": 15,
      "metadata": {
        "colab": {
          "base_uri": "https://localhost:8080/",
          "height": 1000
        },
        "id": "BmHSwjPv2uQl",
        "outputId": "4cc7b2dd-81fe-4ede-80a9-0320566aecb3"
      },
      "source": [
        "# Plot the results\n",
        "plot_test_time_vs_accuracy(results)\n",
        "plt.savefig(\"test_time_vs_accuracy_mistral.png\")\n",
        "plt.show()\n",
        "\n",
        "amortization_data = calculate_amortization(results)\n",
        "plot_amortization(amortization_data)\n",
        "plt.savefig(\"amortization_mistral.png\")\n",
        "plt.show()"
      ],
      "outputs": [
        {
          "output_type": "display_data",
          "data": {
            "text/plain": [
              "<Figure size 1000x600 with 1 Axes>"
            ],
            "image/png": "[encoded data removed]"
          },
          "metadata": {}
        },
        {
          "output_type": "display_data",
          "data": {
            "text/plain": [
              "<Figure size 1000x600 with 1 Axes>"
            ],
            "image/png": "[encoded data removed]"
          },
          "metadata": {}
        }
      ]
    },
    {
      "cell_type": "markdown",
      "metadata": {
        "id": "JlpWx53A2uQl"
      },
      "source": [
        "## Example Sleep-time and Test-time Outputs\n",
        "\n",
        "Let's look at an example of what happens during the sleep-time and test-time phases for one of our problems."
      ]
    },
    {
      "cell_type": "code",
      "execution_count": 16,
      "metadata": {
        "id": "PDiUE1eo2uQl"
      },
      "source": [
        "def demonstrate_example(problem):\n",
        "    \"\"\"Demonstrate sleep-time and test-time phases for a single example\"\"\"\n",
        "    context = problem[\"stateful_gsm_symbolic_context\"]\n",
        "    question = problem[\"stateful_gsm_symbolic_question\"]\n",
        "\n",
        "    print(\"\\nContext:\")\n",
        "    print(context)\n",
        "    print(\"\\nQuestion:\")\n",
        "    print(question)\n",
        "\n",
        "    # Sleep-time phase\n",
        "    print(\"\\n=== SLEEP-TIME PHASE (Pre-computing inferences) ===\")\n",
        "    sleep_time_result = sleep_time_compute(context)\n",
        "    print(sleep_time_result[\"inferences\"])\n",
        "\n",
        "    # Test-time phase\n",
        "    print(\"\\n=== TEST-TIME PHASE (Answering the question) ===\")\n",
        "    test_time_result = test_time_compute(context, question, sleep_time_result[\"inferences\"], verbosity=2)\n",
        "    print(test_time_result[\"response\"])\n",
        "\n",
        "    # For comparison, show standard test-time compute\n",
        "    print(\"\\n=== STANDARD TEST-TIME PHASE (For comparison) ===\")\n",
        "    standard_result = standard_test_time_compute(context, question, verbosity=2)\n",
        "    print(standard_result[\"response\"])"
      ],
      "outputs": []
    },
    {
      "cell_type": "code",
      "execution_count": 17,
      "metadata": {
        "colab": {
          "base_uri": "https://localhost:8080/"
        },
        "id": "Z6JvQZy_2uQl",
        "outputId": "5b31bef5-34d3-4d5f-8ad2-bc93ac313d4c"
      },
      "source": [
        "# Demonstrate with our first problem\n",
        "demonstrate_example(sample_problems[0])"
      ],
      "outputs": [
        {
          "output_type": "stream",
          "name": "stderr",
          "text": [
            "Setting `pad_token_id` to `eos_token_id`:2 for open-end generation.\n"
          ]
        },
        {
          "output_type": "stream",
          "name": "stdout",
          "text": [
            "\n",
            "Context:\n",
            "A juggler can juggle 800 balls. 1/4 of the balls are tennis balls, and 1/2 of the tennis balls are indigo of which 1/10 are marked.\n",
            "\n",
            "Question:\n",
            "How many marked indigo tennis balls are there?\n",
            "\n",
            "=== SLEEP-TIME PHASE (Pre-computing inferences) ===\n"
          ]
        },
        {
          "output_type": "stream",
          "name": "stderr",
          "text": [
            "Setting `pad_token_id` to `eos_token_id`:2 for open-end generation.\n"
          ]
        },
        {
          "output_type": "stream",
          "name": "stdout",
          "text": [
            "1. The juggler can juggle 800 balls in total.\n",
            "2. 1/4 of the balls are tennis balls, so there are 800 x 1/4 = 200 tennis balls.\n",
            "3. 1/2 of the tennis balls are indigo, so there are 200 x 1/2 = 100 indigo tennis balls.\n",
            "4. 1/10 of the indigo tennis balls are marked, so there are 100 x 1/10 = 10 marked indigo tennis balls.\n",
            "5. The juggler can juggle 800 balls in total, but only 10 of them are marked indigo tennis balls.\n",
            "6. The juggler can juggle 800 balls in total, but only 1/10 of them are marked indigo tennis balls.\n",
            "7. The juggler can juggle 800 balls in total, but only 1/10 of them are marked indigo tennis balls.\n",
            "8. The juggler can juggle 800 balls in total, but only 1/10 of them are marked indigo tennis balls.\n",
            "9. The juggler can juggle 800 balls in total, but only 1/10 of them are marked indigo tennis balls.\n",
            "10. The juggler can juggle 800 balls in total, but only 1/10 of them are marked indigo tennis balls.\n",
            "\n",
            "=== TEST-TIME PHASE (Answering the question) ===\n"
          ]
        },
        {
          "output_type": "stream",
          "name": "stderr",
          "text": [
            "Setting `pad_token_id` to `eos_token_id`:2 for open-end generation.\n"
          ]
        },
        {
          "output_type": "stream",
          "name": "stdout",
          "text": [
            "1. The juggler can juggle 800 balls in total.\n",
            "2. 1/4 of the balls are tennis balls, so there are 800 x 1/4 = 200 tennis balls.\n",
            "3. 1/2 of the tennis balls are indigo, so there are 200 x 1/2 = 100 indigo tennis balls.\n",
            "4. 1/10 of the indigo tennis balls are marked, so there are 100 x 1/10 = 10 marked indigo tennis balls.\n",
            "\n",
            "The answer is 10 marked indigo tennis balls.\n",
            "\n",
            "=== STANDARD TEST-TIME PHASE (For comparison) ===\n",
            "1. The juggler can juggle 800 balls, and 1/4 of these are tennis balls.\n",
            "2. 1/2 of the tennis balls are indigo, and 1/10 of these are marked.\n",
            "3. The answer is 8 marked indigo tennis balls.\n"
          ]
        }
      ]
    },
    {
      "cell_type": "markdown",
      "metadata": {
        "id": "gPxmhKbA2uQl"
      },
      "source": [
        "## Multi-Query Amortization Example\n",
        "\n",
        "Let's demonstrate how Sleep-time Compute can be amortized across multiple queries with the same context."
      ]
    },
    {
      "cell_type": "code",
      "execution_count": 18,
      "metadata": {
        "id": "xM13s0-22uQl"
      },
      "source": [
        "# Define multiple questions for the same context\n",
        "multi_query_example = {\n",
        "    \"context\": \"A juggler can juggle 800 balls. 1/4 of the balls are tennis balls, and 1/2 of the tennis balls are indigo of which 1/10 are marked. The rest of the balls are golf balls, of which 3/4 are blue and the remainder are yellow.\",\n",
        "    \"questions\": [\n",
        "        {\"question\": \"How many marked indigo tennis balls are there?\", \"answer\": \"10\"},\n",
        "        {\"question\": \"How many tennis balls are there in total?\", \"answer\": \"200\"},\n",
        "        {\"question\": \"How many golf balls are there?\", \"answer\": \"600\"},\n",
        "        {\"question\": \"How many blue golf balls are there?\", \"answer\": \"450\"},\n",
        "        {\"question\": \"How many yellow golf balls are there?\", \"answer\": \"150\"}\n",
        "    ]\n",
        "}"
      ],
      "outputs": []
    },
    {
      "cell_type": "code",
      "execution_count": 19,
      "metadata": {
        "id": "m5abP5YR2uQm"
      },
      "source": [
        "def demonstrate_multi_query(example):\n",
        "    \"\"\"Demonstrate the amortization of sleep-time compute across multiple queries\"\"\"\n",
        "    context = example[\"context\"]\n",
        "    questions = example[\"questions\"]\n",
        "\n",
        "    print(\"\\nContext:\")\n",
        "    print(context)\n",
        "\n",
        "    # Sleep-time phase (only done once)\n",
        "    print(\"\\n=== SLEEP-TIME PHASE (Only done once) ===\")\n",
        "    sleep_time_result = sleep_time_compute(context)\n",
        "    print(sleep_time_result[\"inferences\"])\n",
        "\n",
        "    sleep_time_tokens = sleep_time_result[\"sleep_time_tokens\"]\n",
        "    total_standard_tokens = 0\n",
        "    total_sleep_tokens = sleep_time_tokens\n",
        "\n",
        "    # Test-time phase (for each query)\n",
        "    print(\"\\n=== TEST-TIME PHASE (For multiple queries) ===\")\n",
        "    for i, q in enumerate(questions):\n",
        "        question = q[\"question\"]\n",
        "        print(f\"\\nQuery {i+1}: {question}\")\n",
        "\n",
        "        # Standard approach (for comparison)\n",
        "        standard_result = standard_test_time_compute(context, question, verbosity=1)\n",
        "        standard_tokens = standard_result[\"test_time_tokens\"]\n",
        "        print(f\"Standard approach response: {standard_result['response']}\")\n",
        "        print(f\"Standard tokens: {standard_tokens}\")\n",
        "\n",
        "        # Sleep-time approach\n",
        "        test_time_result = test_time_compute(context, question, sleep_time_result[\"inferences\"], verbosity=1)\n",
        "        sleep_test_tokens = test_time_result[\"test_time_tokens\"]\n",
        "        print(f\"Sleep-time approach response: {test_time_result['response']}\")\n",
        "        print(f\"Sleep-time test tokens: {sleep_test_tokens}\")\n",
        "\n",
        "        total_standard_tokens += standard_tokens\n",
        "        total_sleep_tokens += sleep_test_tokens\n",
        "\n",
        "    # Calculate the amortization benefit\n",
        "    print(\"\\n=== AMORTIZATION SUMMARY ===\")\n",
        "    print(f\"Total tokens with standard approach: {total_standard_tokens}\")\n",
        "    print(f\"Total tokens with sleep-time approach: {total_sleep_tokens}\")\n",
        "    print(f\"Reduction factor: {total_standard_tokens / total_sleep_tokens:.1f}x\")"
      ],
      "outputs": []
    },
    {
      "cell_type": "code",
      "execution_count": 20,
      "metadata": {
        "colab": {
          "base_uri": "https://localhost:8080/"
        },
        "id": "aCiH6-_z2uQm",
        "outputId": "cc7f5e1d-2134-4eab-fcf2-2c60207a333d"
      },
      "source": [
        "# Demonstrate multi-query amortization\n",
        "demonstrate_multi_query(multi_query_example)"
      ],
      "outputs": [
        {
          "output_type": "stream",
          "name": "stderr",
          "text": [
            "Setting `pad_token_id` to `eos_token_id`:2 for open-end generation.\n"
          ]
        },
        {
          "output_type": "stream",
          "name": "stdout",
          "text": [
            "\n",
            "Context:\n",
            "A juggler can juggle 800 balls. 1/4 of the balls are tennis balls, and 1/2 of the tennis balls are indigo of which 1/10 are marked. The rest of the balls are golf balls, of which 3/4 are blue and the remainder are yellow.\n",
            "\n",
            "=== SLEEP-TIME PHASE (Only done once) ===\n"
          ]
        },
        {
          "output_type": "stream",
          "name": "stderr",
          "text": [
            "Setting `pad_token_id` to `eos_token_id`:2 for open-end generation.\n"
          ]
        },
        {
          "output_type": "stream",
          "name": "stdout",
          "text": [
            "1. The juggler can juggle 800 balls in total.\n",
            "2. 1/4 of the balls are tennis balls, so there are 800 x 1/4 = 200 tennis balls.\n",
            "3. 1/2 of the tennis balls are indigo, so there are 200 x 1/2 = 100 indigo tennis balls.\n",
            "4. 1/10 of the indigo tennis balls are marked, so there are 100 x 1/10 = 10 marked indigo tennis balls.\n",
            "5. The rest of the balls are golf balls, of which 3/4 are blue and the remainder are yellow.\n",
            "6. There are 800 - 200 = 600 golf balls.\n",
            "7. Of these 600 golf balls, 3/4 are blue, so there are 600 x 3/4 = 450 blue golf balls.\n",
            "8. The remainder of the golf balls are yellow, so there are 600 - 450 = 150 yellow golf balls.\n",
            "9. In total, there are 200 tennis balls + 450 blue golf balls + 150 yellow golf balls = 800 balls.\n",
            "10. This means that the juggler can juggle all 800 balls at once.\n",
            "\n",
            "=== TEST-TIME PHASE (For multiple queries) ===\n",
            "\n",
            "Query 1: How many marked indigo tennis balls are there?\n"
          ]
        },
        {
          "output_type": "stream",
          "name": "stderr",
          "text": [
            "Setting `pad_token_id` to `eos_token_id`:2 for open-end generation.\n"
          ]
        },
        {
          "output_type": "stream",
          "name": "stdout",
          "text": [
            "Standard approach response: Explanation: The juggler can juggle 800 balls, and the question asks for the number of marked indigo tennis balls.\n",
            "\n",
            "The answer is: 800 x 1/4 x 1/2 x 1/10 = 800 x 1/8 = 100.\n",
            "Standard tokens: 74\n"
          ]
        },
        {
          "output_type": "stream",
          "name": "stderr",
          "text": [
            "Setting `pad_token_id` to `eos_token_id`:2 for open-end generation.\n"
          ]
        },
        {
          "output_type": "stream",
          "name": "stdout",
          "text": [
            "Sleep-time approach response: 1. The juggler can juggle 800 balls in total.\n",
            "2. 1/4 of the balls are tennis balls, so there are 800 x 1/4 = 200 tennis balls.\n",
            "3. 1/2 of the tennis balls are indigo, so there are 200 x 1/2 = 100 indigo tennis balls.\n",
            "4. 1/10 of the indigo tennis balls are marked, so there are 100 x 1/10 = 10 marked indigo tennis balls.\n",
            "\n",
            "The answer is 10 marked indigo tennis balls.\n",
            "Sleep-time test tokens: 144\n",
            "\n",
            "Query 2: How many tennis balls are there in total?\n"
          ]
        },
        {
          "output_type": "stream",
          "name": "stderr",
          "text": [
            "Setting `pad_token_id` to `eos_token_id`:2 for open-end generation.\n"
          ]
        },
        {
          "output_type": "stream",
          "name": "stdout",
          "text": [
            "Standard approach response: Explanation: The juggler can juggle 800 balls, and the question asks for the total number of tennis balls.\n",
            "\n",
            "The answer is 16.\n",
            "\n",
            "Here's the reasoning:\n",
            "\n",
            "1. We know that 1/4 of the balls are tennis balls.\n",
            "2. To find out how many tennis balls there are, we need to calculate 1/4 of 800.\n",
            "3. 1/4 of 800 is 200.\n",
            "4. We also know that 1/2 of the tennis balls are indigo, and 1/10 of the indigo balls are marked.\n",
            "5. Since there are 200 tennis balls, 1/2 of them are indigo, which is 100 indigo balls.\n",
            "6. Out of these 100 indigo balls, 1/10 are marked, which is 10 marked indigo balls.\n",
            "7. The rest of the tennis balls are golf balls, of which 3/4 are blue and the remainder are yellow.\n",
            "8. Since there are 100 indigo balls, there must be 100 - 10 = 90 golf balls (excluding the marked indigo balls).\n",
            "9. Out of these 90 golf balls, 3/4 are blue, which is 67.5. However, since we cannot have half a ball, we round it to the nearest whole number, which is 68 blue golf balls.\n",
            "10. The remaining golf balls are yellow, and since there are 90 - 68 = 22 yellow golf balls.\n",
            "11. In total, there are 200 tennis balls (including the marked indigo balls), 68 blue golf balls, and 22 yellow golf balls.\n",
            "12. Therefore, the total number of tennis balls is 200 + 68 + 22 = 330.\n",
            "Standard tokens: 430\n"
          ]
        },
        {
          "output_type": "stream",
          "name": "stderr",
          "text": [
            "Setting `pad_token_id` to `eos_token_id`:2 for open-end generation.\n"
          ]
        },
        {
          "output_type": "stream",
          "name": "stdout",
          "text": [
            "Sleep-time approach response: The answer is 200 tennis balls.\n",
            "Sleep-time test tokens: 11\n",
            "\n",
            "Query 3: How many golf balls are there?\n"
          ]
        },
        {
          "output_type": "stream",
          "name": "stderr",
          "text": [
            "Setting `pad_token_id` to `eos_token_id`:2 for open-end generation.\n"
          ]
        },
        {
          "output_type": "stream",
          "name": "stdout",
          "text": [
            "Standard approach response: Explanation: The juggler can juggle 800 balls, and the question asks for the number of golf balls.\n",
            "\n",
            "The answer is: 200 golf balls.\n",
            "Standard tokens: 42\n"
          ]
        },
        {
          "output_type": "stream",
          "name": "stderr",
          "text": [
            "Setting `pad_token_id` to `eos_token_id`:2 for open-end generation.\n"
          ]
        },
        {
          "output_type": "stream",
          "name": "stdout",
          "text": [
            "Sleep-time approach response: The answer is 600 golf balls.\n",
            "Sleep-time test tokens: 11\n",
            "\n",
            "Query 4: How many blue golf balls are there?\n"
          ]
        },
        {
          "output_type": "stream",
          "name": "stderr",
          "text": [
            "Setting `pad_token_id` to `eos_token_id`:2 for open-end generation.\n"
          ]
        },
        {
          "output_type": "stream",
          "name": "stdout",
          "text": [
            "Standard approach response: Explanation: The juggler can juggle 800 balls, and the rest of the balls are golf balls.\n",
            "\n",
            "The answer is: 1/4 of the balls are tennis balls, and 1/2 of the tennis balls are indigo of which 1/10 are marked. The rest of the balls are golf balls, of which 3/4 are blue and the remainder are yellow. Therefore, there are 1/4 x 800 = 200 tennis balls, and 1/2 x 200 = 100 indigo tennis balls. The rest of the balls are golf balls, so there are 800 - 200 - 100 = 500 golf balls. Of these, 3/4 x 500 = 375 are blue golf balls, and the remainder are yellow golf balls.\n",
            "Standard tokens: 195\n"
          ]
        },
        {
          "output_type": "stream",
          "name": "stderr",
          "text": [
            "Setting `pad_token_id` to `eos_token_id`:2 for open-end generation.\n"
          ]
        },
        {
          "output_type": "stream",
          "name": "stdout",
          "text": [
            "Sleep-time approach response: The answer is 450.\n",
            "Sleep-time test tokens: 9\n",
            "\n",
            "Query 5: How many yellow golf balls are there?\n"
          ]
        },
        {
          "output_type": "stream",
          "name": "stderr",
          "text": [
            "Setting `pad_token_id` to `eos_token_id`:2 for open-end generation.\n"
          ]
        },
        {
          "output_type": "stream",
          "name": "stdout",
          "text": [
            "Standard approach response: Explanation: The juggler can juggle 800 balls, and the rest of the balls are golf balls.\n",
            "\n",
            "The answer is: There are 200 yellow golf balls.\n",
            "Standard tokens: 44\n",
            "Sleep-time approach response: The answer is 150.\n",
            "Sleep-time test tokens: 9\n",
            "\n",
            "=== AMORTIZATION SUMMARY ===\n",
            "Total tokens with standard approach: 785\n",
            "Total tokens with sleep-time approach: 495\n",
            "Reduction factor: 1.6x\n"
          ]
        }
      ]
    },
    {
      "cell_type": "markdown",
      "metadata": {
        "id": "JwKSubnX2uQm"
      },
      "source": [
        "## Conclusion\n",
        "\n",
        "This notebook demonstrates a simple implementation of Sleep-time Compute using Mistral-7B-Instruct-v0.1. The key features are:\n",
        "\n",
        "1. **Uses Mistral-7B**: Leverages a powerful open-source model available to anyone\n",
        "\n",
        "2. **Mistral-Specific Prompts**: Uses the appropriate instruction format for Mistral (`<s>[INST] ... [/INST]`)\n",
        "\n",
        "3. **Two-Phase Approach**: Implements the core Sleep-time Compute concept:\n",
        "   - Sleep-time phase: Pre-compute useful inferences about the context\n",
        "   - Test-time phase: Use pre-computed inferences to answer queries efficiently\n",
        "   \n",
        "4. **Amortization**: Demonstrates how pre-computed inferences can be reused across multiple queries on the same context\n",
        "\n",
        "The benefits of Sleep-time Compute are clearly shown in the visualizations:\n",
        "\n",
        "1. **Reduced Test-time Compute**: Significantly reduces computation needed at test-time for faster responses\n",
        "\n",
        "2. **Improved Accuracy**: Better understanding of context leads to more accurate answers\n",
        "\n",
        "3. **Cost Efficiency**: Amortization across multiple queries makes the approach increasingly efficient as query count increases\n",
        "\n",
        "This implementation demonstrates the practical application of the Sleep-time Compute concept from the research paper using an open-source model."
      ]
    }
  ],
  "metadata": {
    "kernelspec": {
      "display_name": "Python 3",
      "name": "python3"
    },
    "language_info": {
      "codemirror_mode": {
        "name": "ipython",
        "version": 3
      },
      "file_extension": ".py",
      "mimetype": "text/x-python",
      "name": "python",
      "nbconvert_exporter": "python",
      "pygments_lexer": "ipython3",
      "version": "3.8.10"
    },
    "colab": {
      "provenance": [],
      "gpuType": "L4"
    },
    "accelerator": "GPU"
  },
  "nbformat": 4,
  "nbformat_minor": 0
}