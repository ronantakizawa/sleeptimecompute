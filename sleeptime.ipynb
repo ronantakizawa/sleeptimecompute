{
  "cells": [
    {
      "cell_type": "markdown",
      "metadata": {
        "id": "a2cVYzZZfoFx"
      },
      "source": [
        "# Sleep-time Compute Implementation to Optimize LLM Latency\n",
        "\n",
        "This notebook implements Sleep-time Compute using Mistral-7B-Instruct-v0.1, based on the paper \"Sleep-time Compute: Beyond Inference Scaling at Test-time\"."
      ]
    },
    {
      "cell_type": "markdown",
      "metadata": {
        "id": "27cyGZmtfoFy"
      },
      "source": [
        "## Setup and Installation\n",
        "\n",
        "First, let's install the required dependencies:"
      ]
    },
    {
      "cell_type": "code",
      "execution_count": 1,
      "metadata": {
        "colab": {
          "base_uri": "https://localhost:8080/"
        },
        "collapsed": true,
        "id": "7GOAd9k2foFy",
        "outputId": "75c64e87-e5f3-439d-e556-c9957e5e39b6"
      },
      "source": [
        "!pip install transformers torch datasets matplotlib tqdm accelerate psutil"
      ],
      "outputs": [
        {
          "output_type": "stream",
          "name": "stdout",
          "text": [
            "Requirement already satisfied: transformers in /usr/local/lib/python3.11/dist-packages (4.51.3)\n",
            "Requirement already satisfied: torch in /usr/local/lib/python3.11/dist-packages (2.6.0+cu124)\n",
            "Requirement already satisfied: datasets in /usr/local/lib/python3.11/dist-packages (2.14.4)\n",
            "Requirement already satisfied: matplotlib in /usr/local/lib/python3.11/dist-packages (3.10.0)\n",
            "Requirement already satisfied: tqdm in /usr/local/lib/python3.11/dist-packages (4.67.1)\n",
            "Requirement already satisfied: accelerate in /usr/local/lib/python3.11/dist-packages (1.6.0)\n",
            "Requirement already satisfied: psutil in /usr/local/lib/python3.11/dist-packages (5.9.5)\n",
            "Requirement already satisfied: filelock in /usr/local/lib/python3.11/dist-packages (from transformers) (3.18.0)\n",
            "Requirement already satisfied: huggingface-hub<1.0,>=0.30.0 in /usr/local/lib/python3.11/dist-packages (from transformers) (0.31.2)\n",
            "Requirement already satisfied: numpy>=1.17 in /usr/local/lib/python3.11/dist-packages (from transformers) (2.0.2)\n",
            "Requirement already satisfied: packaging>=20.0 in /usr/local/lib/python3.11/dist-packages (from transformers) (24.2)\n",
            "Requirement already satisfied: pyyaml>=5.1 in /usr/local/lib/python3.11/dist-packages (from transformers) (6.0.2)\n",
            "Requirement already satisfied: regex!=2019.12.17 in /usr/local/lib/python3.11/dist-packages (from transformers) (2024.11.6)\n",
            "Requirement already satisfied: requests in /usr/local/lib/python3.11/dist-packages (from transformers) (2.32.3)\n",
            "Requirement already satisfied: tokenizers<0.22,>=0.21 in /usr/local/lib/python3.11/dist-packages (from transformers) (0.21.1)\n",
            "Requirement already satisfied: safetensors>=0.4.3 in /usr/local/lib/python3.11/dist-packages (from transformers) (0.5.3)\n",
            "Requirement already satisfied: typing-extensions>=4.10.0 in /usr/local/lib/python3.11/dist-packages (from torch) (4.13.2)\n",
            "Requirement already satisfied: networkx in /usr/local/lib/python3.11/dist-packages (from torch) (3.4.2)\n",
            "Requirement already satisfied: jinja2 in /usr/local/lib/python3.11/dist-packages (from torch) (3.1.6)\n",
            "Requirement already satisfied: fsspec in /usr/local/lib/python3.11/dist-packages (from torch) (2025.3.2)\n",
            "Collecting nvidia-cuda-nvrtc-cu12==12.4.127 (from torch)\n",
            "  Downloading nvidia_cuda_nvrtc_cu12-12.4.127-py3-none-manylinux2014_x86_64.whl.metadata (1.5 kB)\n",
            "Collecting nvidia-cuda-runtime-cu12==12.4.127 (from torch)\n",
            "  Downloading nvidia_cuda_runtime_cu12-12.4.127-py3-none-manylinux2014_x86_64.whl.metadata (1.5 kB)\n",
            "Collecting nvidia-cuda-cupti-cu12==12.4.127 (from torch)\n",
            "  Downloading nvidia_cuda_cupti_cu12-12.4.127-py3-none-manylinux2014_x86_64.whl.metadata (1.6 kB)\n",
            "Collecting nvidia-cudnn-cu12==9.1.0.70 (from torch)\n",
            "  Downloading nvidia_cudnn_cu12-9.1.0.70-py3-none-manylinux2014_x86_64.whl.metadata (1.6 kB)\n",
            "Collecting nvidia-cublas-cu12==12.4.5.8 (from torch)\n",
            "  Downloading nvidia_cublas_cu12-12.4.5.8-py3-none-manylinux2014_x86_64.whl.metadata (1.5 kB)\n",
            "Collecting nvidia-cufft-cu12==11.2.1.3 (from torch)\n",
            "  Downloading nvidia_cufft_cu12-11.2.1.3-py3-none-manylinux2014_x86_64.whl.metadata (1.5 kB)\n",
            "Collecting nvidia-curand-cu12==10.3.5.147 (from torch)\n",
            "  Downloading nvidia_curand_cu12-10.3.5.147-py3-none-manylinux2014_x86_64.whl.metadata (1.5 kB)\n",
            "Collecting nvidia-cusolver-cu12==11.6.1.9 (from torch)\n",
            "  Downloading nvidia_cusolver_cu12-11.6.1.9-py3-none-manylinux2014_x86_64.whl.metadata (1.6 kB)\n",
            "Collecting nvidia-cusparse-cu12==12.3.1.170 (from torch)\n",
            "  Downloading nvidia_cusparse_cu12-12.3.1.170-py3-none-manylinux2014_x86_64.whl.metadata (1.6 kB)\n",
            "Requirement already satisfied: nvidia-cusparselt-cu12==0.6.2 in /usr/local/lib/python3.11/dist-packages (from torch) (0.6.2)\n",
            "Requirement already satisfied: nvidia-nccl-cu12==2.21.5 in /usr/local/lib/python3.11/dist-packages (from torch) (2.21.5)\n",
            "Requirement already satisfied: nvidia-nvtx-cu12==12.4.127 in /usr/local/lib/python3.11/dist-packages (from torch) (12.4.127)\n",
            "Collecting nvidia-nvjitlink-cu12==12.4.127 (from torch)\n",
            "  Downloading nvidia_nvjitlink_cu12-12.4.127-py3-none-manylinux2014_x86_64.whl.metadata (1.5 kB)\n",
            "Requirement already satisfied: triton==3.2.0 in /usr/local/lib/python3.11/dist-packages (from torch) (3.2.0)\n",
            "Requirement already satisfied: sympy==1.13.1 in /usr/local/lib/python3.11/dist-packages (from torch) (1.13.1)\n",
            "Requirement already satisfied: mpmath<1.4,>=1.1.0 in /usr/local/lib/python3.11/dist-packages (from sympy==1.13.1->torch) (1.3.0)\n",
            "Requirement already satisfied: pyarrow>=8.0.0 in /usr/local/lib/python3.11/dist-packages (from datasets) (18.1.0)\n",
            "Requirement already satisfied: dill<0.3.8,>=0.3.0 in /usr/local/lib/python3.11/dist-packages (from datasets) (0.3.7)\n",
            "Requirement already satisfied: pandas in /usr/local/lib/python3.11/dist-packages (from datasets) (2.2.2)\n",
            "Requirement already satisfied: xxhash in /usr/local/lib/python3.11/dist-packages (from datasets) (3.5.0)\n",
            "Requirement already satisfied: multiprocess in /usr/local/lib/python3.11/dist-packages (from datasets) (0.70.15)\n",
            "Requirement already satisfied: aiohttp in /usr/local/lib/python3.11/dist-packages (from datasets) (3.11.15)\n",
            "Requirement already satisfied: contourpy>=1.0.1 in /usr/local/lib/python3.11/dist-packages (from matplotlib) (1.3.2)\n",
            "Requirement already satisfied: cycler>=0.10 in /usr/local/lib/python3.11/dist-packages (from matplotlib) (0.12.1)\n",
            "Requirement already satisfied: fonttools>=4.22.0 in /usr/local/lib/python3.11/dist-packages (from matplotlib) (4.58.0)\n",
            "Requirement already satisfied: kiwisolver>=1.3.1 in /usr/local/lib/python3.11/dist-packages (from matplotlib) (1.4.8)\n",
            "Requirement already satisfied: pillow>=8 in /usr/local/lib/python3.11/dist-packages (from matplotlib) (11.2.1)\n",
            "Requirement already satisfied: pyparsing>=2.3.1 in /usr/local/lib/python3.11/dist-packages (from matplotlib) (3.2.3)\n",
            "Requirement already satisfied: python-dateutil>=2.7 in /usr/local/lib/python3.11/dist-packages (from matplotlib) (2.9.0.post0)\n",
            "Requirement already satisfied: aiohappyeyeballs>=2.3.0 in /usr/local/lib/python3.11/dist-packages (from aiohttp->datasets) (2.6.1)\n",
            "Requirement already satisfied: aiosignal>=1.1.2 in /usr/local/lib/python3.11/dist-packages (from aiohttp->datasets) (1.3.2)\n",
            "Requirement already satisfied: attrs>=17.3.0 in /usr/local/lib/python3.11/dist-packages (from aiohttp->datasets) (25.3.0)\n",
            "Requirement already satisfied: frozenlist>=1.1.1 in /usr/local/lib/python3.11/dist-packages (from aiohttp->datasets) (1.6.0)\n",
            "Requirement already satisfied: multidict<7.0,>=4.5 in /usr/local/lib/python3.11/dist-packages (from aiohttp->datasets) (6.4.3)\n",
            "Requirement already satisfied: propcache>=0.2.0 in /usr/local/lib/python3.11/dist-packages (from aiohttp->datasets) (0.3.1)\n",
            "Requirement already satisfied: yarl<2.0,>=1.17.0 in /usr/local/lib/python3.11/dist-packages (from aiohttp->datasets) (1.20.0)\n",
            "Requirement already satisfied: six>=1.5 in /usr/local/lib/python3.11/dist-packages (from python-dateutil>=2.7->matplotlib) (1.17.0)\n",
            "Requirement already satisfied: charset-normalizer<4,>=2 in /usr/local/lib/python3.11/dist-packages (from requests->transformers) (3.4.2)\n",
            "Requirement already satisfied: idna<4,>=2.5 in /usr/local/lib/python3.11/dist-packages (from requests->transformers) (3.10)\n",
            "Requirement already satisfied: urllib3<3,>=1.21.1 in /usr/local/lib/python3.11/dist-packages (from requests->transformers) (2.4.0)\n",
            "Requirement already satisfied: certifi>=2017.4.17 in /usr/local/lib/python3.11/dist-packages (from requests->transformers) (2025.4.26)\n",
            "Requirement already satisfied: MarkupSafe>=2.0 in /usr/local/lib/python3.11/dist-packages (from jinja2->torch) (3.0.2)\n",
            "Requirement already satisfied: pytz>=2020.1 in /usr/local/lib/python3.11/dist-packages (from pandas->datasets) (2025.2)\n",
            "Requirement already satisfied: tzdata>=2022.7 in /usr/local/lib/python3.11/dist-packages (from pandas->datasets) (2025.2)\n",
            "Downloading nvidia_cublas_cu12-12.4.5.8-py3-none-manylinux2014_x86_64.whl (363.4 MB)\n",
            "\u001b[2K   \u001b[90m━━━━━━━━━━━━━━━━━━━━━━━━━━━━━━━━━━━━━━━━\u001b[0m \u001b[32m363.4/363.4 MB\u001b[0m \u001b[31m2.7 MB/s\u001b[0m eta \u001b[36m0:00:00\u001b[0m\n",
            "\u001b[?25hDownloading nvidia_cuda_cupti_cu12-12.4.127-py3-none-manylinux2014_x86_64.whl (13.8 MB)\n",
            "\u001b[2K   \u001b[90m━━━━━━━━━━━━━━━━━━━━━━━━━━━━━━━━━━━━━━━━\u001b[0m \u001b[32m13.8/13.8 MB\u001b[0m \u001b[31m74.4 MB/s\u001b[0m eta \u001b[36m0:00:00\u001b[0m\n",
            "\u001b[?25hDownloading nvidia_cuda_nvrtc_cu12-12.4.127-py3-none-manylinux2014_x86_64.whl (24.6 MB)\n",
            "\u001b[2K   \u001b[90m━━━━━━━━━━━━━━━━━━━━━━━━━━━━━━━━━━━━━━━━\u001b[0m \u001b[32m24.6/24.6 MB\u001b[0m \u001b[31m84.4 MB/s\u001b[0m eta \u001b[36m0:00:00\u001b[0m\n",
            "\u001b[?25hDownloading nvidia_cuda_runtime_cu12-12.4.127-py3-none-manylinux2014_x86_64.whl (883 kB)\n",
            "\u001b[2K   \u001b[90m━━━━━━━━━━━━━━━━━━━━━━━━━━━━━━━━━━━━━━━━\u001b[0m \u001b[32m883.7/883.7 kB\u001b[0m \u001b[31m55.1 MB/s\u001b[0m eta \u001b[36m0:00:00\u001b[0m\n",
            "\u001b[?25hDownloading nvidia_cudnn_cu12-9.1.0.70-py3-none-manylinux2014_x86_64.whl (664.8 MB)\n",
            "\u001b[2K   \u001b[90m━━━━━━━━━━━━━━━━━━━━━━━━━━━━━━━━━━━━━━━━\u001b[0m \u001b[32m664.8/664.8 MB\u001b[0m \u001b[31m1.4 MB/s\u001b[0m eta \u001b[36m0:00:00\u001b[0m\n",
            "\u001b[?25hDownloading nvidia_cufft_cu12-11.2.1.3-py3-none-manylinux2014_x86_64.whl (211.5 MB)\n",
            "\u001b[2K   \u001b[90m━━━━━━━━━━━━━━━━━━━━━━━━━━━━━━━━━━━━━━━━\u001b[0m \u001b[32m211.5/211.5 MB\u001b[0m \u001b[31m10.1 MB/s\u001b[0m eta \u001b[36m0:00:00\u001b[0m\n",
            "\u001b[?25hDownloading nvidia_curand_cu12-10.3.5.147-py3-none-manylinux2014_x86_64.whl (56.3 MB)\n",
            "\u001b[2K   \u001b[90m━━━━━━━━━━━━━━━━━━━━━━━━━━━━━━━━━━━━━━━━\u001b[0m \u001b[32m56.3/56.3 MB\u001b[0m \u001b[31m35.8 MB/s\u001b[0m eta \u001b[36m0:00:00\u001b[0m\n",
            "\u001b[?25hDownloading nvidia_cusolver_cu12-11.6.1.9-py3-none-manylinux2014_x86_64.whl (127.9 MB)\n",
            "\u001b[2K   \u001b[90m━━━━━━━━━━━━━━━━━━━━━━━━━━━━━━━━━━━━━━━━\u001b[0m \u001b[32m127.9/127.9 MB\u001b[0m \u001b[31m8.0 MB/s\u001b[0m eta \u001b[36m0:00:00\u001b[0m\n",
            "\u001b[?25hDownloading nvidia_cusparse_cu12-12.3.1.170-py3-none-manylinux2014_x86_64.whl (207.5 MB)\n",
            "\u001b[2K   \u001b[90m━━━━━━━━━━━━━━━━━━━━━━━━━━━━━━━━━━━━━━━━\u001b[0m \u001b[32m207.5/207.5 MB\u001b[0m \u001b[31m10.5 MB/s\u001b[0m eta \u001b[36m0:00:00\u001b[0m\n",
            "\u001b[?25hDownloading nvidia_nvjitlink_cu12-12.4.127-py3-none-manylinux2014_x86_64.whl (21.1 MB)\n",
            "\u001b[2K   \u001b[90m━━━━━━━━━━━━━━━━━━━━━━━━━━━━━━━━━━━━━━━━\u001b[0m \u001b[32m21.1/21.1 MB\u001b[0m \u001b[31m112.0 MB/s\u001b[0m eta \u001b[36m0:00:00\u001b[0m\n",
            "\u001b[?25hInstalling collected packages: nvidia-nvjitlink-cu12, nvidia-curand-cu12, nvidia-cufft-cu12, nvidia-cuda-runtime-cu12, nvidia-cuda-nvrtc-cu12, nvidia-cuda-cupti-cu12, nvidia-cublas-cu12, nvidia-cusparse-cu12, nvidia-cudnn-cu12, nvidia-cusolver-cu12\n",
            "  Attempting uninstall: nvidia-nvjitlink-cu12\n",
            "    Found existing installation: nvidia-nvjitlink-cu12 12.5.82\n",
            "    Uninstalling nvidia-nvjitlink-cu12-12.5.82:\n",
            "      Successfully uninstalled nvidia-nvjitlink-cu12-12.5.82\n",
            "  Attempting uninstall: nvidia-curand-cu12\n",
            "    Found existing installation: nvidia-curand-cu12 10.3.6.82\n",
            "    Uninstalling nvidia-curand-cu12-10.3.6.82:\n",
            "      Successfully uninstalled nvidia-curand-cu12-10.3.6.82\n",
            "  Attempting uninstall: nvidia-cufft-cu12\n",
            "    Found existing installation: nvidia-cufft-cu12 11.2.3.61\n",
            "    Uninstalling nvidia-cufft-cu12-11.2.3.61:\n",
            "      Successfully uninstalled nvidia-cufft-cu12-11.2.3.61\n",
            "  Attempting uninstall: nvidia-cuda-runtime-cu12\n",
            "    Found existing installation: nvidia-cuda-runtime-cu12 12.5.82\n",
            "    Uninstalling nvidia-cuda-runtime-cu12-12.5.82:\n",
            "      Successfully uninstalled nvidia-cuda-runtime-cu12-12.5.82\n",
            "  Attempting uninstall: nvidia-cuda-nvrtc-cu12\n",
            "    Found existing installation: nvidia-cuda-nvrtc-cu12 12.5.82\n",
            "    Uninstalling nvidia-cuda-nvrtc-cu12-12.5.82:\n",
            "      Successfully uninstalled nvidia-cuda-nvrtc-cu12-12.5.82\n",
            "  Attempting uninstall: nvidia-cuda-cupti-cu12\n",
            "    Found existing installation: nvidia-cuda-cupti-cu12 12.5.82\n",
            "    Uninstalling nvidia-cuda-cupti-cu12-12.5.82:\n",
            "      Successfully uninstalled nvidia-cuda-cupti-cu12-12.5.82\n",
            "  Attempting uninstall: nvidia-cublas-cu12\n",
            "    Found existing installation: nvidia-cublas-cu12 12.5.3.2\n",
            "    Uninstalling nvidia-cublas-cu12-12.5.3.2:\n",
            "      Successfully uninstalled nvidia-cublas-cu12-12.5.3.2\n",
            "  Attempting uninstall: nvidia-cusparse-cu12\n",
            "    Found existing installation: nvidia-cusparse-cu12 12.5.1.3\n",
            "    Uninstalling nvidia-cusparse-cu12-12.5.1.3:\n",
            "      Successfully uninstalled nvidia-cusparse-cu12-12.5.1.3\n",
            "  Attempting uninstall: nvidia-cudnn-cu12\n",
            "    Found existing installation: nvidia-cudnn-cu12 9.3.0.75\n",
            "    Uninstalling nvidia-cudnn-cu12-9.3.0.75:\n",
            "      Successfully uninstalled nvidia-cudnn-cu12-9.3.0.75\n",
            "  Attempting uninstall: nvidia-cusolver-cu12\n",
            "    Found existing installation: nvidia-cusolver-cu12 11.6.3.83\n",
            "    Uninstalling nvidia-cusolver-cu12-11.6.3.83:\n",
            "      Successfully uninstalled nvidia-cusolver-cu12-11.6.3.83\n",
            "Successfully installed nvidia-cublas-cu12-12.4.5.8 nvidia-cuda-cupti-cu12-12.4.127 nvidia-cuda-nvrtc-cu12-12.4.127 nvidia-cuda-runtime-cu12-12.4.127 nvidia-cudnn-cu12-9.1.0.70 nvidia-cufft-cu12-11.2.1.3 nvidia-curand-cu12-10.3.5.147 nvidia-cusolver-cu12-11.6.1.9 nvidia-cusparse-cu12-12.3.1.170 nvidia-nvjitlink-cu12-12.4.127\n"
          ]
        }
      ]
    },
    {
      "cell_type": "code",
      "execution_count": 35,
      "metadata": {
        "id": "84WrZFu1foFy"
      },
      "source": [
        "import torch\n",
        "import re\n",
        "import json\n",
        "import time\n",
        "import numpy as np\n",
        "import matplotlib.pyplot as plt\n",
        "from tqdm import tqdm\n",
        "from transformers import AutoModelForCausalLM, AutoTokenizer\n",
        "import psutil\n",
        "import gc\n",
        "import math"
      ],
      "outputs": []
    },
    {
      "cell_type": "code",
      "execution_count": 3,
      "metadata": {
        "id": "LufvFfX5foFy"
      },
      "source": [
        "# Utility functions for tracking GPU memory and time\n",
        "def get_gpu_memory():\n",
        "    \"\"\"Returns GPU memory usage in MB\"\"\"\n",
        "    if torch.cuda.is_available():\n",
        "        torch.cuda.synchronize()\n",
        "        return torch.cuda.memory_allocated() / 1024**2\n",
        "    return 0\n",
        "\n",
        "def get_ram_memory():\n",
        "    \"\"\"Returns RAM usage in MB\"\"\"\n",
        "    return psutil.Process().memory_info().rss / 1024**2"
      ],
      "outputs": []
    },
    {
      "cell_type": "markdown",
      "metadata": {
        "id": "mHFzcNaMfoFz"
      },
      "source": [
        "## Set Up Mistral Model\n",
        "\n",
        "Let's set up the Mistral-7B-Instruct-v0.1 model using the requested code:"
      ]
    },
    {
      "cell_type": "code",
      "execution_count": null,
      "metadata": {
        "id": "8wB3JI6BfoFz"
      },
      "source": [
        "# Set your Hugging Face token here (if needed)\n",
        "HF_TOKEN = \"\" # Add your Hugging Face token if needed\n",
        "\n",
        "# Clear GPU cache before loading model\n",
        "if torch.cuda.is_available():\n",
        "    torch.cuda.empty_cache()\n",
        "    gc.collect()\n",
        "\n",
        "# Model setup\n",
        "print(\"Loading Mistral-7B-Instruct-v0.1...\")\n",
        "model_name = \"mistralai/Mistral-7B-Instruct-v0.1\"\n",
        "\n",
        "base_memory = get_gpu_memory()\n",
        "load_start_time = time.time()\n",
        "\n",
        "if HF_TOKEN:\n",
        "    tokenizer = AutoTokenizer.from_pretrained(model_name, token=HF_TOKEN, trust_remote_code=True)\n",
        "    model = AutoModelForCausalLM.from_pretrained(\n",
        "        model_name,\n",
        "        torch_dtype=torch.float16 if torch.cuda.is_available() else torch.float32,\n",
        "        device_map=\"auto\",\n",
        "        trust_remote_code=True,\n",
        "        token=HF_TOKEN\n",
        "    )\n",
        "else:\n",
        "    tokenizer = AutoTokenizer.from_pretrained(model_name, trust_remote_code=True)\n",
        "    model = AutoModelForCausalLM.from_pretrained(\n",
        "        model_name,\n",
        "        torch_dtype=torch.float16 if torch.cuda.is_available() else torch.float32,\n",
        "        device_map=\"auto\",\n",
        "        trust_remote_code=True\n",
        "    )\n",
        "\n",
        "load_time = time.time() - load_start_time\n",
        "model_memory = get_gpu_memory() - base_memory\n",
        "\n",
        "print(f\"Model loaded on device: {model.device}\")\n",
        "print(f\"Loading time: {load_time:.2f} seconds\")\n",
        "print(f\"GPU memory used by model: {model_memory:.2f} MB\")"
      ],
      "outputs": []
    },
    {
      "cell_type": "markdown",
      "metadata": {
        "id": "90-gtYKJfoFz"
      },
      "source": [
        "## Implement Sleep-time Compute with Mistral-Specific Prompts\n",
        "\n",
        "Now, let's implement our Sleep-time Compute functions with prompts tailored for Mistral's instruction format."
      ]
    },
    {
      "cell_type": "code",
      "execution_count": 52,
      "metadata": {
        "id": "PqdFOglZfoFz"
      },
      "source": [
        "# Define Mistral-specific prompt formats\n",
        "def get_sleep_time_prompt(context):\n",
        "    \"\"\"Generate the prompt for the sleep-time phase, formatted for Mistral\"\"\"\n",
        "    return f\"\"\"<s>[INST] You are an expert reasoning system. Given a context, your task is to think about the context and make useful inferences, calculations, and predictions that could help answer potential future questions about this context.\n",
        "\n",
        "For example, if the context involves numbers, calculate relevant quantities. If it involves a scenario, think about different aspects of the scenario that might be important. Try to anticipate possible questions and prepare the information needed to answer them quickly.\n",
        "\n",
        "Context: {context}\n",
        "\n",
        "Think step by step and be thorough. Generate a comprehensive set of inferences, calculations, and observations about this context that would be helpful for answering potential questions: [/INST]\n",
        "\"\"\"\n",
        "\n",
        "def get_test_time_prompt(context, question, inferences, verbosity):\n",
        "    \"\"\"Generate the prompt for the test-time phase with variable verbosity, formatted for Mistral\"\"\"\n",
        "    # Base on verbosity level\n",
        "    if verbosity == 0:\n",
        "        instruction = \"Answer directly with a single sentence. Say 'The answer is' followed by the numerical answer.\"\n",
        "    elif verbosity == 1:\n",
        "        instruction = \"Provide one short sentence of explanation, followed by a sentence that starts with 'The answer is' and a numerical answer.\"\n",
        "    elif verbosity == 2:\n",
        "        instruction = \"Provide two short sentences of explanation, followed by a sentence that starts with 'The answer is' and a numerical answer.\"\n",
        "    elif verbosity == 3:\n",
        "        instruction = \"Reason step by step and provide an answer. End with the final numerical answer.\"\n",
        "    else: # verbosity == 4\n",
        "        instruction = \"Reason thoroughly step by step, double check your work, and provide a detailed explanation leading to the answer. End with 'The answer is' followed by the numerical answer.\"\n",
        "\n",
        "    return f\"\"\"<s>[INST] You are an expert reasoning system. {instruction}\n",
        "\n",
        "Original Context: {context}\n",
        "\n",
        "Pre-computed analysis:\n",
        "{inferences}\n",
        "\n",
        "Question: {question}\n",
        "\n",
        "Use the pre-computed analysis to help you answer efficiently. [/INST]\n",
        "\"\"\"\n",
        "\n",
        "def get_standard_test_time_prompt(context, question, verbosity):\n",
        "    \"\"\"Generate the prompt for standard test-time compute, formatted for Mistral\"\"\"\n",
        "    # Base on verbosity level\n",
        "    if verbosity == 0:\n",
        "        instruction = \"Answer directly with a single sentence. Say 'The answer is' followed by the numerical answer.\"\n",
        "    elif verbosity == 1:\n",
        "        instruction = \"Provide one short sentence of explanation, followed by a sentence that starts with 'The answer is' and a numerical answer.\"\n",
        "    elif verbosity == 2:\n",
        "        instruction = \"Provide two short sentences of explanation, followed by a sentence that starts with 'The answer is' and a numerical answer.\"\n",
        "    elif verbosity == 3:\n",
        "        instruction = \"Reason step by step and provide an answer. End with the final numerical answer.\"\n",
        "    else: # verbosity == 4\n",
        "        instruction = \"Reason thoroughly step by step, double check your work, and provide a detailed explanation leading to the answer. End with 'The answer is' followed by the numerical answer.\"\n",
        "\n",
        "    return f\"\"\"<s>[INST] You are an expert reasoning system. {instruction}\n",
        "\n",
        "Context and Question: {context} {question} [/INST]\n",
        "\"\"\""
      ],
      "outputs": []
    },
    {
      "cell_type": "code",
      "execution_count": 51,
      "metadata": {
        "id": "ns6o3HbcfoFz"
      },
      "source": [
        "def sleep_time_compute(context, temperature=0.1, max_new_tokens=1024):\n",
        "    \"\"\"Perform sleep-time computation on a context using Mistral\n",
        "\n",
        "    Args:\n",
        "        context: The context to analyze\n",
        "        temperature: Temperature for generation\n",
        "        max_new_tokens: Maximum number of new tokens to generate\n",
        "\n",
        "    Returns:\n",
        "        Dictionary with inference text and token count\n",
        "    \"\"\"\n",
        "    prompt = get_sleep_time_prompt(context)\n",
        "\n",
        "    # Count input tokens\n",
        "    input_tokens = len(tokenizer.encode(prompt))\n",
        "\n",
        "    inputs = tokenizer(prompt, return_tensors=\"pt\")\n",
        "    inputs = {k: v.to(model.device) for k, v in inputs.items()}\n",
        "\n",
        "    # Generate\n",
        "    with torch.no_grad():\n",
        "        outputs = model.generate(\n",
        "            **inputs,\n",
        "            max_new_tokens=max_new_tokens,\n",
        "            temperature=temperature,\n",
        "            do_sample=True if temperature > 0 else False,\n",
        "            num_return_sequences=1\n",
        "        )\n",
        "\n",
        "    # Get generated text, removing the prompt\n",
        "    generated_text = tokenizer.decode(outputs[0], skip_special_tokens=False)\n",
        "\n",
        "    # Extract the model's response after [/INST]\n",
        "    response_text = generated_text.split('[/INST]')[-1].strip()\n",
        "    # Remove any trailing tokens if present\n",
        "    if \"</s>\" in response_text:\n",
        "        response_text = response_text.split(\"</s>\")[0].strip()\n",
        "\n",
        "    # Count tokens\n",
        "    sleep_time_tokens = len(tokenizer.encode(response_text))\n",
        "\n",
        "    return {\n",
        "        \"inferences\": response_text,\n",
        "        \"sleep_time_tokens\": sleep_time_tokens\n",
        "    }"
      ],
      "outputs": []
    },
    {
      "cell_type": "code",
      "execution_count": 50,
      "metadata": {
        "id": "i97LtNs4foF0"
      },
      "source": [
        "def test_time_compute(context, question, inferences, verbosity=0, temperature=0.1, max_new_tokens=512):\n",
        "    \"\"\"Perform test-time computation on a context and question using Mistral\n",
        "\n",
        "    Args:\n",
        "        context: The context to analyze\n",
        "        question: The question to answer\n",
        "        inferences: Pre-computed inferences from sleep-time compute\n",
        "        verbosity: Verbosity level (0-4)\n",
        "        temperature: Temperature for generation\n",
        "        max_new_tokens: Maximum number of new tokens to generate\n",
        "\n",
        "    Returns:\n",
        "        Generated response and token count\n",
        "    \"\"\"\n",
        "    prompt = get_test_time_prompt(context, question, inferences, verbosity)\n",
        "\n",
        "    inputs = tokenizer(prompt, return_tensors=\"pt\")\n",
        "    inputs = {k: v.to(model.device) for k, v in inputs.items()}\n",
        "\n",
        "    # Generate\n",
        "    with torch.no_grad():\n",
        "        outputs = model.generate(\n",
        "            **inputs,\n",
        "            max_new_tokens=max_new_tokens,\n",
        "            temperature=temperature,\n",
        "            do_sample=True if temperature > 0 else False,\n",
        "            num_return_sequences=1\n",
        "        )\n",
        "\n",
        "    # Get generated text, removing the prompt\n",
        "    generated_text = tokenizer.decode(outputs[0], skip_special_tokens=False)\n",
        "\n",
        "    # Extract the model's response after [/INST]\n",
        "    response_text = generated_text.split('[/INST]')[-1].strip()\n",
        "    # Remove any trailing tokens if present\n",
        "    if \"</s>\" in response_text:\n",
        "        response_text = response_text.split(\"</s>\")[0].strip()\n",
        "\n",
        "    # Count tokens\n",
        "    test_time_tokens = len(tokenizer.encode(response_text))\n",
        "\n",
        "    return {\n",
        "        \"response\": response_text,\n",
        "        \"test_time_tokens\": test_time_tokens\n",
        "    }"
      ],
      "outputs": []
    },
    {
      "cell_type": "code",
      "execution_count": 49,
      "metadata": {
        "id": "OTppLAqtfoF0"
      },
      "source": [
        "def standard_test_time_compute(context, question, verbosity=0, temperature=0.1, max_new_tokens=512):\n",
        "    \"\"\"Perform standard test-time computation without sleep-time compute using Mistral\n",
        "\n",
        "    Args:\n",
        "        context: The context to analyze\n",
        "        question: The question to answer\n",
        "        verbosity: Verbosity level (0-4)\n",
        "        temperature: Temperature for generation\n",
        "        max_new_tokens: Maximum number of new tokens to generate\n",
        "\n",
        "    Returns:\n",
        "        Generated response and token count\n",
        "    \"\"\"\n",
        "    prompt = get_standard_test_time_prompt(context, question, verbosity)\n",
        "\n",
        "    inputs = tokenizer(prompt, return_tensors=\"pt\")\n",
        "    inputs = {k: v.to(model.device) for k, v in inputs.items()}\n",
        "\n",
        "    # Generate\n",
        "    with torch.no_grad():\n",
        "        outputs = model.generate(\n",
        "            **inputs,\n",
        "            max_new_tokens=max_new_tokens,\n",
        "            temperature=temperature,\n",
        "            do_sample=True if temperature > 0 else False,\n",
        "            num_return_sequences=1\n",
        "        )\n",
        "\n",
        "    # Get generated text, removing the prompt\n",
        "    generated_text = tokenizer.decode(outputs[0], skip_special_tokens=False)\n",
        "\n",
        "    # Extract the model's response after [/INST]\n",
        "    response_text = generated_text.split('[/INST]')[-1].strip()\n",
        "    # Remove any trailing tokens if present\n",
        "    if \"</s>\" in response_text:\n",
        "        response_text = response_text.split(\"</s>\")[0].strip()\n",
        "\n",
        "    # Count tokens\n",
        "    test_time_tokens = len(tokenizer.encode(response_text))\n",
        "\n",
        "    return {\n",
        "        \"response\": response_text,\n",
        "        \"test_time_tokens\": test_time_tokens\n",
        "    }"
      ],
      "outputs": []
    },
    {
      "cell_type": "markdown",
      "metadata": {
        "id": "_itQLdVmfoF0"
      },
      "source": [
        "## Helper Functions for Evaluation"
      ]
    },
    {
      "cell_type": "code",
      "execution_count": 10,
      "metadata": {
        "id": "VSZqJfcrfoF0"
      },
      "source": [
        "def extract_answer(response_content):\n",
        "    \"\"\"Extract a numerical answer from response content\"\"\"\n",
        "    # Look for \"answer is X\" pattern\n",
        "    match = re.search(r'[Tt]he answer is (\\d+)', response_content)\n",
        "    if match:\n",
        "        return match.group(1)\n",
        "\n",
        "    # Look for a number at the end of the response\n",
        "    match = re.search(r'(\\d+)\\s*\\.?\\s*$', response_content)\n",
        "    if match:\n",
        "        return match.group(1)\n",
        "\n",
        "    # Just extract any number in the response (less reliable)\n",
        "    numbers = re.findall(r'\\b(\\d+)\\b', response_content)\n",
        "    if numbers:\n",
        "        return numbers[-1]  # Often the last number is the answer\n",
        "\n",
        "    return None"
      ],
      "outputs": []
    },
    {
      "cell_type": "markdown",
      "source": [
        "## Example Sleep-time and Test-time Outputs\n",
        "\n",
        "Let's look at an example of what happens during the sleep-time and test-time phases for one of our problems."
      ],
      "metadata": {
        "id": "8q9PPOWQqyyg"
      }
    },
    {
      "cell_type": "code",
      "source": [
        "# Define multiple questions for the same context\n",
        "multi_query_example = {\n",
        "    \"context\": \"A juggler can juggle 800 balls. 1/4 of the balls are tennis balls, and 1/2 of the tennis balls are indigo of which 1/10 are marked. The rest of the balls are golf balls, of which 3/4 are blue and the remainder are yellow.\",\n",
        "    \"questions\": [\n",
        "        {\"question\": \"How many marked indigo tennis balls are there?\", \"answer\": \"10\"},\n",
        "        {\"question\": \"How many tennis balls are there in total?\", \"answer\": \"200\"},\n",
        "        {\"question\": \"How many golf balls are there?\", \"answer\": \"600\"},\n",
        "        {\"question\": \"How many blue golf balls are there?\", \"answer\": \"450\"},\n",
        "        {\"question\": \"How many yellow golf balls are there?\", \"answer\": \"150\"}\n",
        "    ]\n",
        "}"
      ],
      "metadata": {
        "id": "nsj4d5W3q5m1"
      },
      "execution_count": 46,
      "outputs": []
    },
    {
      "cell_type": "code",
      "source": [
        "def demonstrate_multi_query(example):\n",
        "    \"\"\"Demonstrate the amortization of sleep-time compute across multiple queries with focused visualizations\"\"\"\n",
        "    import matplotlib.pyplot as plt\n",
        "    import numpy as np\n",
        "    import time\n",
        "    import math\n",
        "\n",
        "    context = example[\"context\"]\n",
        "    questions = example[\"questions\"]\n",
        "\n",
        "    print(\"\\nContext:\")\n",
        "    print(context)\n",
        "\n",
        "    # Sleep-time phase (only done once)\n",
        "    print(\"\\n=== SLEEP-TIME PHASE (Done once per context) ===\")\n",
        "    sleep_start = time.time()\n",
        "    sleep_time_result = sleep_time_compute(context, temperature=0)\n",
        "    sleep_time = time.time() - sleep_start\n",
        "    print(f\"Sleep-time tokens: {sleep_time_result['sleep_time_tokens']}\")\n",
        "    print(f\"Sleep-time computation: {sleep_time:.2f} seconds\")\n",
        "    print(\"Sleep-time inferences:\")\n",
        "    print(sleep_time_result[\"inferences\"][:500] + \"...\" if len(sleep_time_result[\"inferences\"]) > 500 else sleep_time_result[\"inferences\"])\n",
        "\n",
        "    sleep_time_tokens = sleep_time_result[\"sleep_time_tokens\"]\n",
        "\n",
        "    # Track metrics for each approach\n",
        "    standard_results = []\n",
        "    sleep_test_results = []\n",
        "\n",
        "    # Test-time phase (for each query)\n",
        "    print(\"\\n=== TEST-TIME PHASE (For multiple queries) ===\")\n",
        "    for i, q in enumerate(questions):\n",
        "        question = q[\"question\"]\n",
        "        expected_answer = q[\"answer\"]\n",
        "        print(f\"\\nQuery {i+1}: {question}\")\n",
        "\n",
        "        # Standard approach (for comparison)\n",
        "        std_start = time.time()\n",
        "        standard_result = standard_test_time_compute(context, question, verbosity=1, temperature=0)\n",
        "        std_time = time.time() - std_start\n",
        "        standard_tokens = standard_result[\"test_time_tokens\"]\n",
        "        extracted_std_answer = extract_answer(standard_result[\"response\"])\n",
        "        std_correct = extracted_std_answer == expected_answer\n",
        "\n",
        "        standard_results.append({\n",
        "            \"tokens\": standard_tokens,\n",
        "            \"time\": std_time,\n",
        "            \"correct\": std_correct,\n",
        "            \"extracted_answer\": extracted_std_answer,\n",
        "            \"question\": question,\n",
        "            \"expected\": expected_answer\n",
        "        })\n",
        "\n",
        "        print(f\"Standard approach answer: {extracted_std_answer} (Expected: {expected_answer}, Correct: {std_correct})\")\n",
        "        print(f\"Standard tokens: {standard_tokens}\")\n",
        "        print(f\"Standard computation time: {std_time:.2f} seconds\")\n",
        "\n",
        "        # Sleep-time approach\n",
        "        test_start = time.time()\n",
        "        test_time_result = test_time_compute(\n",
        "            context, question, sleep_time_result[\"inferences\"], verbosity=1, temperature=0\n",
        "        )\n",
        "        test_time = time.time() - test_start\n",
        "        sleep_test_tokens = test_time_result[\"test_time_tokens\"]\n",
        "        extracted_sleep_answer = extract_answer(test_time_result[\"response\"])\n",
        "        sleep_correct = extracted_sleep_answer == expected_answer\n",
        "\n",
        "        sleep_test_results.append({\n",
        "            \"tokens\": sleep_test_tokens,\n",
        "            \"time\": test_time,\n",
        "            \"correct\": sleep_correct,\n",
        "            \"extracted_answer\": extracted_sleep_answer,\n",
        "            \"question\": question,\n",
        "            \"expected\": expected_answer\n",
        "        })\n",
        "\n",
        "        print(f\"Sleep-time approach answer: {extracted_sleep_answer} (Expected: {expected_answer}, Correct: {sleep_correct})\")\n",
        "        print(f\"Sleep-time test tokens: {sleep_test_tokens}\")\n",
        "        print(f\"Sleep-time test computation time: {test_time:.2f} seconds\")\n",
        "        print(f\"Time speedup for this query: {std_time/test_time:.2f}x\")\n",
        "\n",
        "    # Calculate aggregate metrics\n",
        "    total_standard_tokens = sum(r[\"tokens\"] for r in standard_results)\n",
        "    total_standard_time = sum(r[\"time\"] for r in standard_results)\n",
        "    standard_accuracy = sum(1 for r in standard_results if r[\"correct\"]) / len(standard_results)\n",
        "\n",
        "    total_sleep_test_tokens = sum(r[\"tokens\"] for r in sleep_test_results)\n",
        "    total_sleep_test_time = sum(r[\"time\"] for r in sleep_test_results)\n",
        "    sleep_accuracy = sum(1 for r in sleep_test_results if r[\"correct\"]) / len(sleep_test_results)\n",
        "\n",
        "    avg_standard_tokens = total_standard_tokens / len(questions)\n",
        "    avg_standard_time = total_standard_time / len(questions)\n",
        "    avg_sleep_test_tokens = total_sleep_test_tokens / len(questions)\n",
        "    avg_sleep_test_time = total_sleep_test_time / len(questions)\n",
        "\n",
        "    # Calculate the amortization benefit\n",
        "    print(\"\\n=== AMORTIZATION SUMMARY ===\")\n",
        "    print(f\"Number of queries in this test: {len(questions)}\")\n",
        "    print(f\"Standard approach accuracy: {standard_accuracy:.2%}\")\n",
        "    print(f\"Sleep-time approach accuracy: {sleep_accuracy:.2%}\")\n",
        "\n",
        "    print(\"\\n--- Current Performance ---\")\n",
        "    print(f\"Total tokens with standard approach: {total_standard_tokens}\")\n",
        "    print(f\"Total tokens with sleep-time approach: {sleep_time_tokens + total_sleep_test_tokens}\")\n",
        "\n",
        "    current_token_factor = total_standard_tokens / (sleep_time_tokens + total_sleep_test_tokens)\n",
        "    print(f\"Current token efficiency: {current_token_factor:.2f}x\")\n",
        "\n",
        "    print(f\"\\nTotal computation time with standard approach: {total_standard_time:.2f} seconds\")\n",
        "    print(f\"Total computation time with sleep-time approach: {sleep_time + total_sleep_test_time:.2f} seconds\")\n",
        "\n",
        "    current_time_factor = total_standard_time / (sleep_time + total_sleep_test_time)\n",
        "    print(f\"Current time efficiency: {current_time_factor:.2f}x\")\n",
        "\n",
        "    # Calculate the break-even point\n",
        "    if avg_sleep_test_time >= avg_standard_time:\n",
        "        break_even_time = float('inf')\n",
        "        print(\"\\nSleep-time compute will never break even for time in this workload.\")\n",
        "    else:\n",
        "        break_even_time = sleep_time / (avg_standard_time - avg_sleep_test_time)\n",
        "        print(f\"\\n--- Break-Even Analysis ---\")\n",
        "        print(f\"Time break-even point: {math.ceil(break_even_time)} queries\")\n",
        "        print(f\"After {math.ceil(break_even_time)} queries, sleep-time compute becomes faster overall.\")\n",
        "\n",
        "    if avg_sleep_test_tokens >= avg_standard_tokens:\n",
        "        break_even_tokens = float('inf')\n",
        "        print(\"Sleep-time compute will never break even for tokens in this workload.\")\n",
        "    else:\n",
        "        break_even_tokens = sleep_time_tokens / (avg_standard_tokens - avg_sleep_test_tokens)\n",
        "        print(f\"Token break-even point: {math.ceil(break_even_tokens)} queries\")\n",
        "        print(f\"After {math.ceil(break_even_tokens)} queries, sleep-time compute becomes token-efficient.\")\n",
        "\n",
        "    # Project performance with more queries\n",
        "    print(\"\\n--- Projected Performance ---\")\n",
        "    print(\"Number of queries | Token Efficiency | Time Efficiency\")\n",
        "    print(\"--------------------------------------------------\")\n",
        "\n",
        "    query_counts = [10, 25, 50, 100, 250, 500, 1000]\n",
        "    token_efficiencies = []\n",
        "    time_efficiencies = []\n",
        "\n",
        "    for num_queries in query_counts:\n",
        "        # Calculate projected metrics\n",
        "        proj_standard_tokens = avg_standard_tokens * num_queries\n",
        "        proj_sleep_tokens = sleep_time_tokens + (avg_sleep_test_tokens * num_queries)\n",
        "        proj_token_factor = proj_standard_tokens / proj_sleep_tokens\n",
        "        token_efficiencies.append(proj_token_factor)\n",
        "\n",
        "        proj_standard_time = avg_standard_time * num_queries\n",
        "        proj_sleep_time = sleep_time + (avg_sleep_test_time * num_queries)\n",
        "        proj_time_factor = proj_standard_time / proj_sleep_time\n",
        "        time_efficiencies.append(proj_time_factor)\n",
        "\n",
        "        print(f\"{num_queries:14d} | {proj_token_factor:15.2f}x | {proj_time_factor:14.2f}x\")\n",
        "\n",
        "    # Performance per query (not including sleep-time cost)\n",
        "    print(\"\\n--- Per-Query Performance (excluding setup) ---\")\n",
        "    print(f\"Standard approach: {avg_standard_tokens:.1f} tokens, {avg_standard_time:.2f} seconds per query\")\n",
        "    print(f\"Sleep-time approach: {avg_sleep_test_tokens:.1f} tokens, {avg_sleep_test_time:.2f} seconds per query\")\n",
        "    print(f\"Per-query token reduction: {avg_standard_tokens / avg_sleep_test_tokens:.2f}x\")\n",
        "    print(f\"Per-query time speedup: {avg_standard_time / avg_sleep_test_time:.2f}x\")\n",
        "\n",
        "    # VISUALIZATION 1: Cumulative computation time (excluding setup time)\n",
        "    plt.figure(figsize=(10, 6))\n",
        "\n",
        "    # Calculate cumulative computation times\n",
        "    cum_std_times = np.cumsum([r[\"time\"] for r in standard_results])\n",
        "    cum_sleep_times = np.cumsum([r[\"time\"] for r in sleep_test_results])\n",
        "\n",
        "    # Plot the cumulative times\n",
        "    plt.plot(range(1, len(questions) + 1), cum_std_times, 'b-', linewidth=2, label='Standard Test-time Compute')\n",
        "    plt.plot(range(1, len(questions) + 1), cum_sleep_times, 'g-', linewidth=2, label='Sleep-time Test Phase Only')\n",
        "\n",
        "    # Shade the area between curves to show savings\n",
        "    if np.any(cum_std_times > cum_sleep_times):\n",
        "        plt.fill_between(\n",
        "            range(1, len(questions) + 1),\n",
        "            cum_std_times,\n",
        "            cum_sleep_times,\n",
        "            where=(cum_std_times > cum_sleep_times),\n",
        "            color='green', alpha=0.3, label='Time Savings'\n",
        "        )\n",
        "\n",
        "    plt.title('Cumulative Computation Time (Test-time Phase Only)', fontsize=14)\n",
        "    plt.xlabel('Number of Queries', fontsize=12)\n",
        "    plt.ylabel('Total Time (seconds)', fontsize=12)\n",
        "    plt.grid(True, linestyle='--', alpha=0.7)\n",
        "    plt.legend(fontsize=11)\n",
        "    plt.tight_layout()\n",
        "    plt.savefig('cumulative_test_time.png', dpi=300)\n",
        "\n",
        "    print(\"\\n✅ Cumulative computation time visualization saved to 'cumulative_test_time.png'\")\n",
        "\n",
        "    # VISUALIZATION 2: Test-time compute vs. Accuracy\n",
        "    # Generate data for different verbosity levels\n",
        "    verbosity_levels = [0, 1, 2, 3]\n",
        "    std_tokens = []\n",
        "    std_accs = []\n",
        "    sleep_tokens = []\n",
        "    sleep_accs = []\n",
        "\n",
        "    # Use a subset of questions for testing different verbosity levels\n",
        "    sample_size = min(5, len(questions))\n",
        "    sample_questions = questions[:sample_size]\n",
        "\n",
        "    print(f\"\\nGenerating test-time compute vs. accuracy graph (using {sample_size} sample questions)...\")\n",
        "\n",
        "    for verbosity in verbosity_levels:\n",
        "        # Standard approach\n",
        "        std_correct = 0\n",
        "        std_token_sum = 0\n",
        "\n",
        "        for q in sample_questions:\n",
        "            result = standard_test_time_compute(context, q[\"question\"], verbosity=verbosity, temperature=0)\n",
        "            std_token_sum += result[\"test_time_tokens\"]\n",
        "            answer = extract_answer(result[\"response\"])\n",
        "            if answer == q[\"answer\"]:\n",
        "                std_correct += 1\n",
        "\n",
        "        std_tokens.append(std_token_sum / len(sample_questions))\n",
        "        std_accs.append(std_correct / len(sample_questions) * 100)\n",
        "\n",
        "        # Sleep-time approach\n",
        "        sleep_correct = 0\n",
        "        sleep_token_sum = 0\n",
        "\n",
        "        for q in sample_questions:\n",
        "            result = test_time_compute(context, q[\"question\"],\n",
        "                                     sleep_time_result[\"inferences\"],\n",
        "                                     verbosity=verbosity, temperature=0)\n",
        "            sleep_token_sum += result[\"test_time_tokens\"]\n",
        "            answer = extract_answer(result[\"response\"])\n",
        "            if answer == q[\"answer\"]:\n",
        "                sleep_correct += 1\n",
        "\n",
        "        sleep_tokens.append(sleep_token_sum / len(sample_questions))\n",
        "        sleep_accs.append(sleep_correct / len(sample_questions) * 100)\n",
        "\n",
        "        print(f\"  Verbosity {verbosity} complete\")\n",
        "\n",
        "    plt.figure(figsize=(10, 6))\n",
        "\n",
        "    # Plot the pareto curves\n",
        "    plt.plot(std_tokens, std_accs, 'bo-', linewidth=2, markersize=8, label='Standard Test-time Compute')\n",
        "    plt.plot(sleep_tokens, sleep_accs, 'go-', linewidth=2, markersize=8, label='Sleep-time Compute')\n",
        "\n",
        "    # Annotate verbosity levels\n",
        "    for i, (x, y) in enumerate(zip(std_tokens, std_accs)):\n",
        "        plt.annotate(f\"V{verbosity_levels[i]}\", (x, y), xytext=(5, -15),\n",
        "                     textcoords='offset points', fontsize=9, color='blue')\n",
        "\n",
        "    for i, (x, y) in enumerate(zip(sleep_tokens, sleep_accs)):\n",
        "        plt.annotate(f\"V{verbosity_levels[i]}\", (x, y), xytext=(5, 10),\n",
        "                     textcoords='offset points', fontsize=9, color='green')\n",
        "\n",
        "    # Shade the pareto improvement area\n",
        "    max_sleep_acc = max(sleep_accs)\n",
        "    plt.fill_between([min(std_tokens + sleep_tokens) * 0.9, max(std_tokens + sleep_tokens) * 1.1],\n",
        "                   0, max_sleep_acc, alpha=0.1, color='green')\n",
        "\n",
        "    plt.title('Test-time Compute vs. Accuracy', fontsize=14)\n",
        "    plt.xlabel('Avg. Test-time Tokens / Query', fontsize=12)\n",
        "    plt.ylabel('Accuracy (%)', fontsize=12)\n",
        "    plt.grid(True, linestyle='--', alpha=0.7)\n",
        "    plt.legend(fontsize=11)\n",
        "    plt.tight_layout()\n",
        "    plt.savefig('test_time_vs_accuracy.png', dpi=300)\n",
        "\n",
        "    print(\"✅ Test-time compute vs. accuracy visualization saved to 'test_time_vs_accuracy.png'\")\n",
        "\n",
        "    return {\n",
        "        \"standard_results\": standard_results,\n",
        "        \"sleep_test_results\": sleep_test_results,\n",
        "        \"standard_accuracy\": standard_accuracy,\n",
        "        \"sleep_accuracy\": sleep_accuracy,\n",
        "        \"avg_standard_tokens\": avg_standard_tokens,\n",
        "        \"avg_sleep_test_tokens\": avg_sleep_test_tokens,\n",
        "        \"avg_standard_time\": avg_standard_time,\n",
        "        \"avg_sleep_test_time\": avg_sleep_test_time,\n",
        "        \"break_even_time\": break_even_time if 'break_even_time' in locals() else None,\n",
        "        \"break_even_tokens\": break_even_tokens if 'break_even_tokens' in locals() else None\n",
        "    }"
      ],
      "metadata": {
        "id": "IXoXDf0OrAa5"
      },
      "execution_count": 60,
      "outputs": []
    },
    {
      "cell_type": "code",
      "source": [
        "# Demonstrate multi-query amortization\n",
        "demonstrate_multi_query(multi_query_example)"
      ],
      "metadata": {
        "colab": {
          "base_uri": "https://localhost:8080/",
          "height": 1000
        },
        "id": "YId0h1wMrJtO",
        "outputId": "169f9954-c1d3-44fd-b93e-5214681eb161"
      },
      "execution_count": 61,
      "outputs": [
        {
          "output_type": "stream",
          "name": "stderr",
          "text": [
            "Setting `pad_token_id` to `eos_token_id`:2 for open-end generation.\n"
          ]
        },
        {
          "output_type": "stream",
          "name": "stdout",
          "text": [
            "\n",
            "Context:\n",
            "A juggler can juggle 800 balls. 1/4 of the balls are tennis balls, and 1/2 of the tennis balls are indigo of which 1/10 are marked. The rest of the balls are golf balls, of which 3/4 are blue and the remainder are yellow.\n",
            "\n",
            "=== SLEEP-TIME PHASE (Done once per context) ===\n"
          ]
        },
        {
          "output_type": "stream",
          "name": "stderr",
          "text": [
            "Setting `pad_token_id` to `eos_token_id`:2 for open-end generation.\n"
          ]
        },
        {
          "output_type": "stream",
          "name": "stdout",
          "text": [
            "Sleep-time tokens: 1026\n",
            "Sleep-time computation: 43.64 seconds\n",
            "Sleep-time inferences:\n",
            "1. The juggler can juggle 800 balls, which means there are 800 balls in total.\n",
            "2. 1/4 of the balls are tennis balls, so there are 800 x 1/4 = 200 tennis balls.\n",
            "3. 1/2 of the tennis balls are indigo, so there are 200 x 1/2 = 100 indigo tennis balls.\n",
            "4. 1/10 of the indigo tennis balls are marked, so there are 100 x 1/10 = 10 marked indigo tennis balls.\n",
            "5. The rest of the balls are golf balls, which means there are 800 - 200 = 600 golf balls.\n",
            "6. 3/4 of the golf balls are blue, so there are 600 x 3/...\n",
            "\n",
            "=== TEST-TIME PHASE (For multiple queries) ===\n",
            "\n",
            "Query 1: How many marked indigo tennis balls are there?\n"
          ]
        },
        {
          "output_type": "stream",
          "name": "stderr",
          "text": [
            "Setting `pad_token_id` to `eos_token_id`:2 for open-end generation.\n"
          ]
        },
        {
          "output_type": "stream",
          "name": "stdout",
          "text": [
            "Standard approach answer: 8 (Expected: 10, Correct: False)\n",
            "Standard tokens: 40\n",
            "Standard computation time: 1.63 seconds\n"
          ]
        },
        {
          "output_type": "stream",
          "name": "stderr",
          "text": [
            "Setting `pad_token_id` to `eos_token_id`:2 for open-end generation.\n"
          ]
        },
        {
          "output_type": "stream",
          "name": "stdout",
          "text": [
            "Sleep-time approach answer: 10 (Expected: 10, Correct: True)\n",
            "Sleep-time test tokens: 8\n",
            "Sleep-time test computation time: 0.44 seconds\n",
            "Time speedup for this query: 3.71x\n",
            "\n",
            "Query 2: How many tennis balls are there in total?\n"
          ]
        },
        {
          "output_type": "stream",
          "name": "stderr",
          "text": [
            "Setting `pad_token_id` to `eos_token_id`:2 for open-end generation.\n"
          ]
        },
        {
          "output_type": "stream",
          "name": "stdout",
          "text": [
            "Standard approach answer: 16 (Expected: 200, Correct: False)\n",
            "Standard tokens: 42\n",
            "Standard computation time: 1.73 seconds\n"
          ]
        },
        {
          "output_type": "stream",
          "name": "stderr",
          "text": [
            "Setting `pad_token_id` to `eos_token_id`:2 for open-end generation.\n"
          ]
        },
        {
          "output_type": "stream",
          "name": "stdout",
          "text": [
            "Sleep-time approach answer: 100 (Expected: 200, Correct: False)\n",
            "Sleep-time test tokens: 22\n",
            "Sleep-time test computation time: 0.99 seconds\n",
            "Time speedup for this query: 1.75x\n",
            "\n",
            "Query 3: How many golf balls are there?\n"
          ]
        },
        {
          "output_type": "stream",
          "name": "stderr",
          "text": [
            "Setting `pad_token_id` to `eos_token_id`:2 for open-end generation.\n"
          ]
        },
        {
          "output_type": "stream",
          "name": "stdout",
          "text": [
            "Standard approach answer: 200 (Expected: 600, Correct: False)\n",
            "Standard tokens: 44\n",
            "Standard computation time: 1.77 seconds\n"
          ]
        },
        {
          "output_type": "stream",
          "name": "stderr",
          "text": [
            "Setting `pad_token_id` to `eos_token_id`:2 for open-end generation.\n"
          ]
        },
        {
          "output_type": "stream",
          "name": "stdout",
          "text": [
            "Sleep-time approach answer: 600 (Expected: 600, Correct: True)\n",
            "Sleep-time test tokens: 9\n",
            "Sleep-time test computation time: 0.48 seconds\n",
            "Time speedup for this query: 3.71x\n",
            "\n",
            "Query 4: How many blue golf balls are there?\n"
          ]
        },
        {
          "output_type": "stream",
          "name": "stderr",
          "text": [
            "Setting `pad_token_id` to `eos_token_id`:2 for open-end generation.\n"
          ]
        },
        {
          "output_type": "stream",
          "name": "stdout",
          "text": [
            "Standard approach answer: 375 (Expected: 450, Correct: False)\n",
            "Standard tokens: 195\n",
            "Standard computation time: 7.99 seconds\n"
          ]
        },
        {
          "output_type": "stream",
          "name": "stderr",
          "text": [
            "Setting `pad_token_id` to `eos_token_id`:2 for open-end generation.\n"
          ]
        },
        {
          "output_type": "stream",
          "name": "stdout",
          "text": [
            "Sleep-time approach answer: 450 (Expected: 450, Correct: True)\n",
            "Sleep-time test tokens: 9\n",
            "Sleep-time test computation time: 0.49 seconds\n",
            "Time speedup for this query: 16.20x\n",
            "\n",
            "Query 5: How many yellow golf balls are there?\n"
          ]
        },
        {
          "output_type": "stream",
          "name": "stderr",
          "text": [
            "Setting `pad_token_id` to `eos_token_id`:2 for open-end generation.\n"
          ]
        },
        {
          "output_type": "stream",
          "name": "stdout",
          "text": [
            "Standard approach answer: 200 (Expected: 150, Correct: False)\n",
            "Standard tokens: 44\n",
            "Standard computation time: 1.93 seconds\n",
            "Sleep-time approach answer: 150 (Expected: 150, Correct: True)\n",
            "Sleep-time test tokens: 9\n",
            "Sleep-time test computation time: 0.49 seconds\n",
            "Time speedup for this query: 3.91x\n",
            "\n",
            "=== AMORTIZATION SUMMARY ===\n",
            "Number of queries in this test: 5\n",
            "Standard approach accuracy: 0.00%\n",
            "Sleep-time approach accuracy: 80.00%\n",
            "\n",
            "--- Current Performance ---\n",
            "Total tokens with standard approach: 365\n",
            "Total tokens with sleep-time approach: 1083\n",
            "Current token efficiency: 0.34x\n",
            "\n",
            "Total computation time with standard approach: 15.06 seconds\n",
            "Total computation time with sleep-time approach: 46.53 seconds\n",
            "Current time efficiency: 0.32x\n",
            "\n",
            "--- Break-Even Analysis ---\n",
            "Time break-even point: 18 queries\n",
            "After 18 queries, sleep-time compute becomes faster overall.\n",
            "Token break-even point: 17 queries\n",
            "After 17 queries, sleep-time compute becomes token-efficient.\n",
            "\n",
            "--- Projected Performance ---\n",
            "Number of queries | Token Efficiency | Time Efficiency\n",
            "--------------------------------------------------\n",
            "            10 |            0.64x |           0.61x\n",
            "            25 |            1.39x |           1.30x\n",
            "            50 |            2.29x |           2.07x\n",
            "           100 |            3.37x |           2.97x\n",
            "           250 |            4.71x |           4.00x\n",
            "           500 |            5.43x |           4.52x\n",
            "          1000 |            5.87x |           4.84x\n",
            "\n",
            "--- Per-Query Performance (excluding setup) ---\n",
            "Standard approach: 73.0 tokens, 3.01 seconds per query\n",
            "Sleep-time approach: 11.4 tokens, 0.58 seconds per query\n",
            "Per-query token reduction: 6.40x\n",
            "Per-query time speedup: 5.20x\n"
          ]
        },
        {
          "output_type": "stream",
          "name": "stderr",
          "text": [
            "Setting `pad_token_id` to `eos_token_id`:2 for open-end generation.\n"
          ]
        },
        {
          "output_type": "stream",
          "name": "stdout",
          "text": [
            "\n",
            "✅ Cumulative computation time visualization saved to 'cumulative_test_time.png'\n",
            "\n",
            "Generating test-time compute vs. accuracy graph (using 5 sample questions)...\n"
          ]
        },
        {
          "output_type": "stream",
          "name": "stderr",
          "text": [
            "Setting `pad_token_id` to `eos_token_id`:2 for open-end generation.\n",
            "Setting `pad_token_id` to `eos_token_id`:2 for open-end generation.\n",
            "Setting `pad_token_id` to `eos_token_id`:2 for open-end generation.\n",
            "Setting `pad_token_id` to `eos_token_id`:2 for open-end generation.\n",
            "Setting `pad_token_id` to `eos_token_id`:2 for open-end generation.\n",
            "Setting `pad_token_id` to `eos_token_id`:2 for open-end generation.\n",
            "Setting `pad_token_id` to `eos_token_id`:2 for open-end generation.\n",
            "Setting `pad_token_id` to `eos_token_id`:2 for open-end generation.\n",
            "Setting `pad_token_id` to `eos_token_id`:2 for open-end generation.\n",
            "Setting `pad_token_id` to `eos_token_id`:2 for open-end generation.\n"
          ]
        },
        {
          "output_type": "stream",
          "name": "stdout",
          "text": [
            "  Verbosity 0 complete\n"
          ]
        },
        {
          "output_type": "stream",
          "name": "stderr",
          "text": [
            "Setting `pad_token_id` to `eos_token_id`:2 for open-end generation.\n",
            "Setting `pad_token_id` to `eos_token_id`:2 for open-end generation.\n",
            "Setting `pad_token_id` to `eos_token_id`:2 for open-end generation.\n",
            "Setting `pad_token_id` to `eos_token_id`:2 for open-end generation.\n",
            "Setting `pad_token_id` to `eos_token_id`:2 for open-end generation.\n",
            "Setting `pad_token_id` to `eos_token_id`:2 for open-end generation.\n",
            "Setting `pad_token_id` to `eos_token_id`:2 for open-end generation.\n",
            "Setting `pad_token_id` to `eos_token_id`:2 for open-end generation.\n",
            "Setting `pad_token_id` to `eos_token_id`:2 for open-end generation.\n",
            "Setting `pad_token_id` to `eos_token_id`:2 for open-end generation.\n"
          ]
        },
        {
          "output_type": "stream",
          "name": "stdout",
          "text": [
            "  Verbosity 1 complete\n"
          ]
        },
        {
          "output_type": "stream",
          "name": "stderr",
          "text": [
            "Setting `pad_token_id` to `eos_token_id`:2 for open-end generation.\n",
            "Setting `pad_token_id` to `eos_token_id`:2 for open-end generation.\n",
            "Setting `pad_token_id` to `eos_token_id`:2 for open-end generation.\n",
            "Setting `pad_token_id` to `eos_token_id`:2 for open-end generation.\n",
            "Setting `pad_token_id` to `eos_token_id`:2 for open-end generation.\n",
            "Setting `pad_token_id` to `eos_token_id`:2 for open-end generation.\n",
            "Setting `pad_token_id` to `eos_token_id`:2 for open-end generation.\n",
            "Setting `pad_token_id` to `eos_token_id`:2 for open-end generation.\n",
            "Setting `pad_token_id` to `eos_token_id`:2 for open-end generation.\n",
            "Setting `pad_token_id` to `eos_token_id`:2 for open-end generation.\n"
          ]
        },
        {
          "output_type": "stream",
          "name": "stdout",
          "text": [
            "  Verbosity 2 complete\n"
          ]
        },
        {
          "output_type": "stream",
          "name": "stderr",
          "text": [
            "Setting `pad_token_id` to `eos_token_id`:2 for open-end generation.\n",
            "Setting `pad_token_id` to `eos_token_id`:2 for open-end generation.\n",
            "Setting `pad_token_id` to `eos_token_id`:2 for open-end generation.\n",
            "Setting `pad_token_id` to `eos_token_id`:2 for open-end generation.\n",
            "Setting `pad_token_id` to `eos_token_id`:2 for open-end generation.\n",
            "Setting `pad_token_id` to `eos_token_id`:2 for open-end generation.\n",
            "Setting `pad_token_id` to `eos_token_id`:2 for open-end generation.\n",
            "Setting `pad_token_id` to `eos_token_id`:2 for open-end generation.\n",
            "Setting `pad_token_id` to `eos_token_id`:2 for open-end generation.\n"
          ]
        },
        {
          "output_type": "stream",
          "name": "stdout",
          "text": [
            "  Verbosity 3 complete\n",
            "✅ Test-time compute vs. accuracy visualization saved to 'test_time_vs_accuracy.png'\n"
          ]
        },
        {
          "output_type": "execute_result",
          "data": {
            "text/plain": [
              "{'standard_results': [{'tokens': 40,\n",
              "   'time': 1.6317694187164307,\n",
              "   'correct': False,\n",
              "   'extracted_answer': '8',\n",
              "   'question': 'How many marked indigo tennis balls are there?',\n",
              "   'expected': '10'},\n",
              "  {'tokens': 42,\n",
              "   'time': 1.7310221195220947,\n",
              "   'correct': False,\n",
              "   'extracted_answer': '16',\n",
              "   'question': 'How many tennis balls are there in total?',\n",
              "   'expected': '200'},\n",
              "  {'tokens': 44,\n",
              "   'time': 1.7725911140441895,\n",
              "   'correct': False,\n",
              "   'extracted_answer': '200',\n",
              "   'question': 'How many golf balls are there?',\n",
              "   'expected': '600'},\n",
              "  {'tokens': 195,\n",
              "   'time': 7.994421482086182,\n",
              "   'correct': False,\n",
              "   'extracted_answer': '375',\n",
              "   'question': 'How many blue golf balls are there?',\n",
              "   'expected': '450'},\n",
              "  {'tokens': 44,\n",
              "   'time': 1.925654411315918,\n",
              "   'correct': False,\n",
              "   'extracted_answer': '200',\n",
              "   'question': 'How many yellow golf balls are there?',\n",
              "   'expected': '150'}],\n",
              " 'sleep_test_results': [{'tokens': 8,\n",
              "   'time': 0.4393348693847656,\n",
              "   'correct': True,\n",
              "   'extracted_answer': '10',\n",
              "   'question': 'How many marked indigo tennis balls are there?',\n",
              "   'expected': '10'},\n",
              "  {'tokens': 22,\n",
              "   'time': 0.9887471199035645,\n",
              "   'correct': False,\n",
              "   'extracted_answer': '100',\n",
              "   'question': 'How many tennis balls are there in total?',\n",
              "   'expected': '200'},\n",
              "  {'tokens': 9,\n",
              "   'time': 0.47841787338256836,\n",
              "   'correct': True,\n",
              "   'extracted_answer': '600',\n",
              "   'question': 'How many golf balls are there?',\n",
              "   'expected': '600'},\n",
              "  {'tokens': 9,\n",
              "   'time': 0.4935038089752197,\n",
              "   'correct': True,\n",
              "   'extracted_answer': '450',\n",
              "   'question': 'How many blue golf balls are there?',\n",
              "   'expected': '450'},\n",
              "  {'tokens': 9,\n",
              "   'time': 0.49292874336242676,\n",
              "   'correct': True,\n",
              "   'extracted_answer': '150',\n",
              "   'question': 'How many yellow golf balls are there?',\n",
              "   'expected': '150'}],\n",
              " 'standard_accuracy': 0.0,\n",
              " 'sleep_accuracy': 0.8,\n",
              " 'avg_standard_tokens': 73.0,\n",
              " 'avg_sleep_test_tokens': 11.4,\n",
              " 'avg_standard_time': 3.011091709136963,\n",
              " 'avg_sleep_test_time': 0.578586483001709,\n",
              " 'break_even_time': 17.939544705685957,\n",
              " 'break_even_tokens': 16.655844155844157}"
            ]
          },
          "metadata": {},
          "execution_count": 61
        },
        {
          "output_type": "display_data",
          "data": {
            "text/plain": [
              "<Figure size 1000x600 with 1 Axes>"
            ],
            "image/png": "[encoded data removed]"
          },
          "metadata": {}
        },
        {
          "output_type": "display_data",
          "data": {
            "text/plain": [
              "<Figure size 1000x600 with 1 Axes>"
            ],
            "image/png": "[encoded data removed]"
          },
          "metadata": {}
        }
      ]
    }
  ],
  "metadata": {
    "kernelspec": {
      "display_name": "Python 3",
      "name": "python3"
    },
    "language_info": {
      "codemirror_mode": {
        "name": "ipython",
        "version": 3
      },
      "file_extension": ".py",
      "mimetype": "text/x-python",
      "name": "python",
      "nbconvert_exporter": "python",
      "pygments_lexer": "ipython3",
      "version": "3.8.10"
    },
    "colab": {
      "provenance": [],
      "gpuType": "A100"
    },
    "accelerator": "GPU"
  },
  "nbformat": 4,
  "nbformat_minor": 0
}